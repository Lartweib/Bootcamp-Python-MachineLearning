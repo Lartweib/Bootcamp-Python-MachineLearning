{
 "cells": [
  {
   "cell_type": "code",
   "execution_count": 1,
   "metadata": {},
   "outputs": [
    {
     "name": "stdout",
     "output_type": "stream",
     "text": [
      "      Ventas  -10%\n",
      "2010       1   0.9\n",
      "2011       2   1.8\n",
      "2012       3   2.7\n",
      "2013       1   0.9\n",
      "2014       2   1.8\n",
      "2015       1   0.9\n",
      "2016       2   1.8\n",
      "2017       1   0.9\n",
      "2018       2   1.8\n",
      "2019       1   0.9\n",
      "2020       2   1.8\n"
     ]
    }
   ],
   "source": [
    "'''\n",
    "Ejercicio 1 \n",
    "\n",
    "Escribir un programa que pregunte al usuario por las ventas de un rango de años y muestre por pantalla un diagrama de líneas con la evolución de las ventas. \n",
    "'''\n",
    "import pandas as pd\n",
    "\n",
    "def info_ventas(anio1,anio2):\n",
    "    ventas = {}\n",
    "    if anio1 > anio2:\n",
    "        diferencia = (anio1 - anio2) + 1\n",
    "        anio_menor = anio2\n",
    "    else:\n",
    "        diferencia = (anio2 - anio1)+1\n",
    "        anio_menor = anio1\n",
    "    for x in range(diferencia):\n",
    "        anio = int(anio_menor)+x\n",
    "        venta = int(input(f\"Ingrese las ventas del {anio}:\"))\n",
    "        ventas[anio] = venta\n",
    "    return ventas\n",
    "\n",
    "serie = pd.Series(info_ventas(2010,2020))\n",
    "df = pd.DataFrame(serie, columns=['Ventas'])\n",
    "#df = df.reset_index()\n",
    "df.columns = ['Ventas']\n",
    "df['-10%'] = df['Ventas'] * 0.9\n",
    "\n",
    "print(df)\n"
   ]
  },
  {
   "cell_type": "code",
   "execution_count": null,
   "metadata": {},
   "outputs": [],
   "source": [
    "'''\n",
    "Ejercicio 2 \n",
    "\n",
    "Escribir una función que reciba una diccionario con las notas de las asignaturas de un curso y una cadena con el nombre de un color y devuelva un diagrama de barras de las notas en el color dado. \n",
    "'''\n"
   ]
  },
  {
   "cell_type": "code",
   "execution_count": null,
   "metadata": {},
   "outputs": [],
   "source": [
    "\n",
    "'''\n",
    "Ejercicio 3 \n",
    "\n",
    "Escribir una función que reciba una serie de Pandas con las notas de los alumnos de un curso y devuelva un diagrama de cajas con las notas. El diagrama debe tener el título “Distribución de notas”. \n",
    "'''\n",
    "\n"
   ]
  },
  {
   "cell_type": "code",
   "execution_count": null,
   "metadata": {},
   "outputs": [],
   "source": [
    "'''\n",
    "Ejercicio 4 \n",
    "\n",
    "Escribir una función que reciba una serie de Pandas con el número de ventas de un producto durante los meses de un trimestre y un título y cree un diagrama de sectores con las ventas en formato png con el titulo dado. El diagrama debe guardarse en un fichero con formato png y el título dado. \n",
    "'''\n",
    "\n"
   ]
  },
  {
   "cell_type": "code",
   "execution_count": null,
   "metadata": {},
   "outputs": [],
   "source": [
    "'''\n",
    "Ejercicio 5 \n",
    "\n",
    "Escribir una función que reciba una serie de Pandas con el número de ventas de un producto por años y una cadena con el tipo de gráfico a generar (lineas, barras, sectores, areas) y devuelva un diagrama del tipo indicado con la evolución de las ventas por años y con el título “Evolución del número de ventas”. \n",
    "'''\n",
    "\n"
   ]
  },
  {
   "cell_type": "code",
   "execution_count": null,
   "metadata": {},
   "outputs": [],
   "source": [
    "'''\n",
    "Ejercicio 6 \n",
    "\n",
    "Escribir una función que reciba un dataframe de Pandas con los ingresos y gastos de una empresa por meses y devuelva un diagrama de líneas con dos líneas, una para los ingresos y otra para los gastos. El diagrama debe tener una leyenda identificando la línea de los ingresos y la de los gastos, un título con el nombre “Evolución de ingresos y gastos” y el eje y debe empezar en 0. \n",
    "'''\n",
    "\n"
   ]
  },
  {
   "cell_type": "code",
   "execution_count": null,
   "metadata": {},
   "outputs": [],
   "source": [
    "'''\n",
    "Ejercicio 7 \n",
    "\n",
    "El fichero bancos.csv contiene las cotizaciones de los principales bancos de España con : \n",
    "\n",
    "Empresa (nombre de la empresa), Apertura (precio de la acción a la apertura de bolsa), Máximo (precio máximo de la acción durante la jornada), Mínimo (precio mínimo de la acción durante la jornada), Cierre (precio de la acción al cierre de bolsa), Volumen (volumen al cierre de bolsa). \n",
    "\n",
    "Construir una función reciba el fichero bancos.csv y cree un diagrama de líneas con las series temporales de las cotizaciones de cierre de cada banco. \n",
    "'''\n"
   ]
  },
  {
   "cell_type": "code",
   "execution_count": null,
   "metadata": {},
   "outputs": [],
   "source": [
    "\n",
    "'''\n",
    "Ejercicio 8 \n",
    "\n",
    "El fichero titanic.csv contiene información sobre los pasajeros del Titanic. Crear un dataframe con Pandas y a partir de él generar los siguientes diagramas. \n",
    "    1. Diagrama de sectores con los fallecidos y supervivientes. \n",
    "    2. Histograma con las edades. \n",
    "    3. Diagrama de barras con el número de personas en cada clase. \n",
    "    4. Diagrama de barras con el número de personas fallecidas y supervivientes en cada clase. \n",
    "    5. Diagrama de barras con el número de personas fallecidas y supervivientes acumuladas en cada clase.\n",
    "'''"
   ]
  }
 ],
 "metadata": {
  "kernelspec": {
   "display_name": "Python 3.10.4 64-bit",
   "language": "python",
   "name": "python3"
  },
  "language_info": {
   "codemirror_mode": {
    "name": "ipython",
    "version": 3
   },
   "file_extension": ".py",
   "mimetype": "text/x-python",
   "name": "python",
   "nbconvert_exporter": "python",
   "pygments_lexer": "ipython3",
   "version": "3.10.4"
  },
  "orig_nbformat": 4,
  "vscode": {
   "interpreter": {
    "hash": "369f2c481f4da34e4445cda3fffd2e751bd1c4d706f27375911949ba6bb62e1c"
   }
  }
 },
 "nbformat": 4,
 "nbformat_minor": 2
}
