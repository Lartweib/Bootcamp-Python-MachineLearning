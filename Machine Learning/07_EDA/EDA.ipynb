{
 "cells": [
  {
   "cell_type": "markdown",
   "metadata": {},
   "source": [
    "# Ejemplo de EDA: Análisis Exploratorio de Datos"
   ]
  },
  {
   "cell_type": "code",
   "execution_count": 65,
   "metadata": {
    "ExecuteTime": {
     "end_time": "2019-12-08T22:02:37.412568Z",
     "start_time": "2019-12-08T22:02:37.407961Z"
    }
   },
   "outputs": [],
   "source": [
    "import pandas as pd\n",
    "import numpy as np\n",
    "import matplotlib.pyplot as plt\n",
    "import statsmodels.api as sm\n"
   ]
  },
  {
   "cell_type": "markdown",
   "metadata": {},
   "source": [
    "## Carga de archivo csv desde una URL"
   ]
  },
  {
   "cell_type": "code",
   "execution_count": 66,
   "metadata": {
    "ExecuteTime": {
     "end_time": "2019-12-08T22:02:38.571087Z",
     "start_time": "2019-12-08T22:02:37.416370Z"
    }
   },
   "outputs": [
    {
     "name": "stdout",
     "output_type": "stream",
     "text": [
      "  alpha_2 alpha_3      area           capital continent currency_code  \\\n",
      "0      AD     AND     468.0  Andorra la Vella        EU           EUR   \n",
      "1      AE     ARE   82880.0         Abu Dhabi        AS           AED   \n",
      "2      AF     AFG  647500.0             Kabul        AS           AFN   \n",
      "3      AG     ATG     443.0        St. John's       NaN           XCD   \n",
      "4      AI     AIA     102.0        The Valley       NaN           XCD   \n",
      "\n",
      "  currency_name eqivalent_fips_code fips  geoname_id          languages  \\\n",
      "0          Euro                 NaN   AN     3041565                 ca   \n",
      "1        Dirham                 NaN   AE      290557  ar-AE,fa,en,hi,ur   \n",
      "2       Afghani                 NaN   AF     1149361  fa-AF,ps,uz-AF,tk   \n",
      "3        Dollar                 NaN   AC     3576396              en-AG   \n",
      "4        Dollar                 NaN   AV     3573511              en-AI   \n",
      "\n",
      "                   name         neighbours  numeric   phone  population  \\\n",
      "0               Andorra              ES,FR       20     376       84000   \n",
      "1  United Arab Emirates              SA,OM      784     971     4975593   \n",
      "2           Afghanistan  TM,CN,IR,TJ,PK,UZ        4      93    29121286   \n",
      "3   Antigua and Barbuda                NaN       28  +1-268       86754   \n",
      "4              Anguilla                NaN      660  +1-264       13254   \n",
      "\n",
      "  postal_code_format postal_code_regex  tld  \n",
      "0              AD###  ^(?:AD)*(\\d{3})$  .ad  \n",
      "1                NaN               NaN  .ae  \n",
      "2                NaN               NaN  .af  \n",
      "3                NaN               NaN  .ag  \n",
      "4                NaN               NaN  .ai  \n"
     ]
    }
   ],
   "source": [
    "url = 'https://raw.githubusercontent.com/lorey/list-of-countries/master/csv/countries.csv'\n",
    "df = pd.read_csv(url, sep=\";\") #index_col=0\n",
    "print(df.head(5))"
   ]
  },
  {
   "cell_type": "markdown",
   "metadata": {},
   "source": [
    "## Conocer información básica"
   ]
  },
  {
   "cell_type": "code",
   "execution_count": 99,
   "metadata": {
    "ExecuteTime": {
     "end_time": "2019-12-08T23:09:35.570049Z",
     "start_time": "2019-12-08T23:09:35.562245Z"
    }
   },
   "outputs": [
    {
     "name": "stdout",
     "output_type": "stream",
     "text": [
      "Cantidad de Filas y columnas: (252, 19)\n",
      "Nombre columnas: Index(['alpha_2', 'alpha_3', 'area', 'capital', 'continent', 'currency_code',\n",
      "       'currency_name', 'eqivalent_fips_code', 'fips', 'geoname_id',\n",
      "       'languages', 'name', 'neighbours', 'numeric', 'phone', 'population',\n",
      "       'postal_code_format', 'postal_code_regex', 'tld'],\n",
      "      dtype='object')\n"
     ]
    }
   ],
   "source": [
    "print('Cantidad de Filas y columnas:',df.shape)\n",
    "print('Nombre columnas:',df.columns)"
   ]
  },
  {
   "cell_type": "code",
   "execution_count": 68,
   "metadata": {
    "ExecuteTime": {
     "end_time": "2019-12-08T22:02:38.606905Z",
     "start_time": "2019-12-08T22:02:38.587047Z"
    }
   },
   "outputs": [
    {
     "name": "stdout",
     "output_type": "stream",
     "text": [
      "<class 'pandas.core.frame.DataFrame'>\n",
      "RangeIndex: 252 entries, 0 to 251\n",
      "Data columns (total 19 columns):\n",
      "alpha_2                251 non-null object\n",
      "alpha_3                252 non-null object\n",
      "area                   252 non-null float64\n",
      "capital                246 non-null object\n",
      "continent              210 non-null object\n",
      "currency_code          251 non-null object\n",
      "currency_name          251 non-null object\n",
      "eqivalent_fips_code    1 non-null object\n",
      "fips                   249 non-null object\n",
      "geoname_id             252 non-null int64\n",
      "languages              249 non-null object\n",
      "name                   252 non-null object\n",
      "neighbours             165 non-null object\n",
      "numeric                252 non-null int64\n",
      "phone                  247 non-null object\n",
      "population             252 non-null int64\n",
      "postal_code_format     154 non-null object\n",
      "postal_code_regex      152 non-null object\n",
      "tld                    250 non-null object\n",
      "dtypes: float64(1), int64(3), object(15)\n",
      "memory usage: 37.5+ KB\n"
     ]
    }
   ],
   "source": [
    "df.info()"
   ]
  },
  {
   "cell_type": "code",
   "execution_count": 69,
   "metadata": {
    "ExecuteTime": {
     "end_time": "2019-12-08T22:02:38.666169Z",
     "start_time": "2019-12-08T22:02:38.613732Z"
    }
   },
   "outputs": [
    {
     "data": {
      "text/html": [
       "<div>\n",
       "<style scoped>\n",
       "    .dataframe tbody tr th:only-of-type {\n",
       "        vertical-align: middle;\n",
       "    }\n",
       "\n",
       "    .dataframe tbody tr th {\n",
       "        vertical-align: top;\n",
       "    }\n",
       "\n",
       "    .dataframe thead th {\n",
       "        text-align: right;\n",
       "    }\n",
       "</style>\n",
       "<table border=\"1\" class=\"dataframe\">\n",
       "  <thead>\n",
       "    <tr style=\"text-align: right;\">\n",
       "      <th></th>\n",
       "      <th>area</th>\n",
       "      <th>geoname_id</th>\n",
       "      <th>numeric</th>\n",
       "      <th>population</th>\n",
       "    </tr>\n",
       "  </thead>\n",
       "  <tbody>\n",
       "    <tr>\n",
       "      <td>count</td>\n",
       "      <td>2.520000e+02</td>\n",
       "      <td>2.520000e+02</td>\n",
       "      <td>252.000000</td>\n",
       "      <td>2.520000e+02</td>\n",
       "    </tr>\n",
       "    <tr>\n",
       "      <td>mean</td>\n",
       "      <td>5.952879e+05</td>\n",
       "      <td>2.427870e+06</td>\n",
       "      <td>434.309524</td>\n",
       "      <td>2.727679e+07</td>\n",
       "    </tr>\n",
       "    <tr>\n",
       "      <td>std</td>\n",
       "      <td>1.904818e+06</td>\n",
       "      <td>1.632093e+06</td>\n",
       "      <td>254.663139</td>\n",
       "      <td>1.164127e+08</td>\n",
       "    </tr>\n",
       "    <tr>\n",
       "      <td>min</td>\n",
       "      <td>0.000000e+00</td>\n",
       "      <td>4.951800e+04</td>\n",
       "      <td>0.000000</td>\n",
       "      <td>0.000000e+00</td>\n",
       "    </tr>\n",
       "    <tr>\n",
       "      <td>25%</td>\n",
       "      <td>1.098000e+03</td>\n",
       "      <td>1.163774e+06</td>\n",
       "      <td>217.000000</td>\n",
       "      <td>1.879528e+05</td>\n",
       "    </tr>\n",
       "    <tr>\n",
       "      <td>50%</td>\n",
       "      <td>6.489450e+04</td>\n",
       "      <td>2.367967e+06</td>\n",
       "      <td>436.000000</td>\n",
       "      <td>4.268583e+06</td>\n",
       "    </tr>\n",
       "    <tr>\n",
       "      <td>75%</td>\n",
       "      <td>3.622245e+05</td>\n",
       "      <td>3.478296e+06</td>\n",
       "      <td>652.500000</td>\n",
       "      <td>1.536688e+07</td>\n",
       "    </tr>\n",
       "    <tr>\n",
       "      <td>max</td>\n",
       "      <td>1.710000e+07</td>\n",
       "      <td>8.505033e+06</td>\n",
       "      <td>894.000000</td>\n",
       "      <td>1.330044e+09</td>\n",
       "    </tr>\n",
       "  </tbody>\n",
       "</table>\n",
       "</div>"
      ],
      "text/plain": [
       "               area    geoname_id     numeric    population\n",
       "count  2.520000e+02  2.520000e+02  252.000000  2.520000e+02\n",
       "mean   5.952879e+05  2.427870e+06  434.309524  2.727679e+07\n",
       "std    1.904818e+06  1.632093e+06  254.663139  1.164127e+08\n",
       "min    0.000000e+00  4.951800e+04    0.000000  0.000000e+00\n",
       "25%    1.098000e+03  1.163774e+06  217.000000  1.879528e+05\n",
       "50%    6.489450e+04  2.367967e+06  436.000000  4.268583e+06\n",
       "75%    3.622245e+05  3.478296e+06  652.500000  1.536688e+07\n",
       "max    1.710000e+07  8.505033e+06  894.000000  1.330044e+09"
      ]
     },
     "execution_count": 69,
     "metadata": {},
     "output_type": "execute_result"
    }
   ],
   "source": [
    "df.describe()"
   ]
  },
  {
   "cell_type": "markdown",
   "metadata": {},
   "source": [
    "## Matriz de Correlación"
   ]
  },
  {
   "cell_type": "code",
   "execution_count": 91,
   "metadata": {
    "ExecuteTime": {
     "end_time": "2019-12-08T22:08:56.919335Z",
     "start_time": "2019-12-08T22:08:49.847520Z"
    }
   },
   "outputs": [
    {
     "data": {
      "image/png": "[encoded data removed]",
      "text/plain": [
       "<Figure size 432x288 with 2 Axes>"
      ]
     },
     "metadata": {
      "needs_background": "light"
     },
     "output_type": "display_data"
    }
   ],
   "source": [
    "corr = df.set_index('alpha_3').corr()\n",
    "sm.graphics.plot_corr(corr, xnames=list(corr.columns))\n",
    "plt.show()"
   ]
  },
  {
   "cell_type": "markdown",
   "metadata": {},
   "source": [
    "## Cargar una segunda fuente de datos"
   ]
  },
  {
   "cell_type": "code",
   "execution_count": 70,
   "metadata": {
    "ExecuteTime": {
     "end_time": "2019-12-08T22:02:39.201638Z",
     "start_time": "2019-12-08T22:02:38.669191Z"
    }
   },
   "outputs": [
    {
     "name": "stdout",
     "output_type": "stream",
     "text": [
      "       country  year  population\n",
      "0  Afghanistan  1952     8425333\n",
      "1  Afghanistan  1957     9240934\n",
      "2  Afghanistan  1962    10267083\n",
      "3  Afghanistan  1967    11537966\n",
      "4  Afghanistan  1972    13079460\n"
     ]
    }
   ],
   "source": [
    "url = 'https://raw.githubusercontent.com/DrueStaples/Population_Growth/master/countries.csv'\n",
    "df_pop = pd.read_csv(url)\n",
    "print(df_pop.head(5))"
   ]
  },
  {
   "cell_type": "markdown",
   "metadata": {},
   "source": [
    "### Aqui vemos la población año tras año de España"
   ]
  },
  {
   "cell_type": "code",
   "execution_count": 71,
   "metadata": {
    "ExecuteTime": {
     "end_time": "2019-12-08T22:02:39.223694Z",
     "start_time": "2019-12-08T22:02:39.204902Z"
    }
   },
   "outputs": [
    {
     "data": {
      "text/html": [
       "<div>\n",
       "<style scoped>\n",
       "    .dataframe tbody tr th:only-of-type {\n",
       "        vertical-align: middle;\n",
       "    }\n",
       "\n",
       "    .dataframe tbody tr th {\n",
       "        vertical-align: top;\n",
       "    }\n",
       "\n",
       "    .dataframe thead th {\n",
       "        text-align: right;\n",
       "    }\n",
       "</style>\n",
       "<table border=\"1\" class=\"dataframe\">\n",
       "  <thead>\n",
       "    <tr style=\"text-align: right;\">\n",
       "      <th></th>\n",
       "      <th>country</th>\n",
       "      <th>year</th>\n",
       "      <th>population</th>\n",
       "    </tr>\n",
       "  </thead>\n",
       "  <tbody>\n",
       "    <tr>\n",
       "      <td>1416</td>\n",
       "      <td>Spain</td>\n",
       "      <td>1952</td>\n",
       "      <td>28549870</td>\n",
       "    </tr>\n",
       "    <tr>\n",
       "      <td>1417</td>\n",
       "      <td>Spain</td>\n",
       "      <td>1957</td>\n",
       "      <td>29841614</td>\n",
       "    </tr>\n",
       "    <tr>\n",
       "      <td>1418</td>\n",
       "      <td>Spain</td>\n",
       "      <td>1962</td>\n",
       "      <td>31158061</td>\n",
       "    </tr>\n",
       "    <tr>\n",
       "      <td>1419</td>\n",
       "      <td>Spain</td>\n",
       "      <td>1967</td>\n",
       "      <td>32850275</td>\n",
       "    </tr>\n",
       "    <tr>\n",
       "      <td>1420</td>\n",
       "      <td>Spain</td>\n",
       "      <td>1972</td>\n",
       "      <td>34513161</td>\n",
       "    </tr>\n",
       "  </tbody>\n",
       "</table>\n",
       "</div>"
      ],
      "text/plain": [
       "     country  year  population\n",
       "1416   Spain  1952    28549870\n",
       "1417   Spain  1957    29841614\n",
       "1418   Spain  1962    31158061\n",
       "1419   Spain  1967    32850275\n",
       "1420   Spain  1972    34513161"
      ]
     },
     "execution_count": 71,
     "metadata": {},
     "output_type": "execute_result"
    }
   ],
   "source": [
    "df_pop_es = df_pop[df_pop[\"country\"] == 'Spain' ]\n",
    "df_pop_es.head()"
   ]
  },
  {
   "cell_type": "code",
   "execution_count": 72,
   "metadata": {
    "ExecuteTime": {
     "end_time": "2019-12-08T22:02:39.242255Z",
     "start_time": "2019-12-08T22:02:39.233781Z"
    }
   },
   "outputs": [
    {
     "data": {
      "text/plain": [
       "(12, 3)"
      ]
     },
     "execution_count": 72,
     "metadata": {},
     "output_type": "execute_result"
    }
   ],
   "source": [
    "df_pop_es.shape"
   ]
  },
  {
   "cell_type": "markdown",
   "metadata": {},
   "source": [
    "## Visualicemos datos"
   ]
  },
  {
   "cell_type": "code",
   "execution_count": 73,
   "metadata": {
    "ExecuteTime": {
     "end_time": "2019-12-08T22:02:39.496444Z",
     "start_time": "2019-12-08T22:02:39.249756Z"
    }
   },
   "outputs": [
    {
     "data": {
      "text/plain": [
       "<matplotlib.axes._subplots.AxesSubplot at 0x12091aef0>"
      ]
     },
     "execution_count": 73,
     "metadata": {},
     "output_type": "execute_result"
    },
    {
     "data": {
      "image/png": "[encoded data removed]",
      "text/plain": [
       "<Figure size 432x288 with 1 Axes>"
      ]
     },
     "metadata": {
      "needs_background": "light"
     },
     "output_type": "display_data"
    }
   ],
   "source": [
    "df_pop_es.drop(['country'],axis=1)['population'].plot(kind='bar')"
   ]
  },
  {
   "cell_type": "code",
   "execution_count": 74,
   "metadata": {
    "ExecuteTime": {
     "end_time": "2019-12-08T22:02:39.520411Z",
     "start_time": "2019-12-08T22:02:39.499275Z"
    }
   },
   "outputs": [
    {
     "data": {
      "text/html": [
       "<div>\n",
       "<style scoped>\n",
       "    .dataframe tbody tr th:only-of-type {\n",
       "        vertical-align: middle;\n",
       "    }\n",
       "\n",
       "    .dataframe tbody tr th {\n",
       "        vertical-align: top;\n",
       "    }\n",
       "\n",
       "    .dataframe thead th {\n",
       "        text-align: right;\n",
       "    }\n",
       "</style>\n",
       "<table border=\"1\" class=\"dataframe\">\n",
       "  <thead>\n",
       "    <tr style=\"text-align: right;\">\n",
       "      <th></th>\n",
       "      <th>country</th>\n",
       "      <th>year</th>\n",
       "      <th>population</th>\n",
       "    </tr>\n",
       "  </thead>\n",
       "  <tbody>\n",
       "    <tr>\n",
       "      <td>48</td>\n",
       "      <td>Argentina</td>\n",
       "      <td>1952</td>\n",
       "      <td>17876956</td>\n",
       "    </tr>\n",
       "    <tr>\n",
       "      <td>49</td>\n",
       "      <td>Argentina</td>\n",
       "      <td>1957</td>\n",
       "      <td>19610538</td>\n",
       "    </tr>\n",
       "    <tr>\n",
       "      <td>50</td>\n",
       "      <td>Argentina</td>\n",
       "      <td>1962</td>\n",
       "      <td>21283783</td>\n",
       "    </tr>\n",
       "    <tr>\n",
       "      <td>51</td>\n",
       "      <td>Argentina</td>\n",
       "      <td>1967</td>\n",
       "      <td>22934225</td>\n",
       "    </tr>\n",
       "    <tr>\n",
       "      <td>52</td>\n",
       "      <td>Argentina</td>\n",
       "      <td>1972</td>\n",
       "      <td>24779799</td>\n",
       "    </tr>\n",
       "  </tbody>\n",
       "</table>\n",
       "</div>"
      ],
      "text/plain": [
       "      country  year  population\n",
       "48  Argentina  1952    17876956\n",
       "49  Argentina  1957    19610538\n",
       "50  Argentina  1962    21283783\n",
       "51  Argentina  1967    22934225\n",
       "52  Argentina  1972    24779799"
      ]
     },
     "execution_count": 74,
     "metadata": {},
     "output_type": "execute_result"
    }
   ],
   "source": [
    "df_pop_ar = df_pop[(df_pop[\"country\"] == 'Argentina')]\n",
    "df_pop_ar.head()"
   ]
  },
  {
   "cell_type": "code",
   "execution_count": 75,
   "metadata": {
    "ExecuteTime": {
     "end_time": "2019-12-08T22:02:39.549547Z",
     "start_time": "2019-12-08T22:02:39.523476Z"
    }
   },
   "outputs": [
    {
     "data": {
      "text/plain": [
       "(12, 3)"
      ]
     },
     "execution_count": 75,
     "metadata": {},
     "output_type": "execute_result"
    }
   ],
   "source": [
    "df_pop_ar.shape"
   ]
  },
  {
   "cell_type": "code",
   "execution_count": 76,
   "metadata": {
    "ExecuteTime": {
     "end_time": "2019-12-08T22:02:39.807622Z",
     "start_time": "2019-12-08T22:02:39.552783Z"
    }
   },
   "outputs": [
    {
     "data": {
      "text/plain": [
       "<matplotlib.axes._subplots.AxesSubplot at 0x123026c50>"
      ]
     },
     "execution_count": 76,
     "metadata": {},
     "output_type": "execute_result"
    },
    {
     "data": {
      "image/png": "[encoded data removed]",
      "text/plain": [
       "<Figure size 432x288 with 1 Axes>"
      ]
     },
     "metadata": {
      "needs_background": "light"
     },
     "output_type": "display_data"
    }
   ],
   "source": [
    "df_pop_ar.set_index('year').plot(kind='bar')"
   ]
  },
  {
   "cell_type": "markdown",
   "metadata": {},
   "source": [
    "## Comparativa entre 2 países"
   ]
  },
  {
   "cell_type": "code",
   "execution_count": 77,
   "metadata": {
    "ExecuteTime": {
     "end_time": "2019-12-08T22:02:40.139905Z",
     "start_time": "2019-12-08T22:02:39.810381Z"
    }
   },
   "outputs": [
    {
     "data": {
      "text/plain": [
       "<matplotlib.axes._subplots.AxesSubplot at 0x11ef1d780>"
      ]
     },
     "execution_count": 77,
     "metadata": {},
     "output_type": "execute_result"
    },
    {
     "data": {
      "image/png": "[encoded data removed]",
      "text/plain": [
       "<Figure size 432x288 with 1 Axes>"
      ]
     },
     "metadata": {
      "needs_background": "light"
     },
     "output_type": "display_data"
    }
   ],
   "source": [
    "anios = df_pop_es['year'].unique()\n",
    "pop_ar = df_pop_ar['population'].values\n",
    "pop_es = df_pop_es['population'].values\n",
    "\n",
    "df_plot = pd.DataFrame({'Argentina': pop_ar,\n",
    "                    'Spain': pop_es}, \n",
    "                       index=anios)\n",
    "df_plot.plot(kind='bar')"
   ]
  },
  {
   "cell_type": "markdown",
   "metadata": {},
   "source": [
    "# Filtremos paises hispano-hablantes"
   ]
  },
  {
   "cell_type": "code",
   "execution_count": 78,
   "metadata": {
    "ExecuteTime": {
     "end_time": "2019-12-08T22:02:40.199235Z",
     "start_time": "2019-12-08T22:02:40.142691Z"
    }
   },
   "outputs": [
    {
     "data": {
      "text/html": [
       "<div>\n",
       "<style scoped>\n",
       "    .dataframe tbody tr th:only-of-type {\n",
       "        vertical-align: middle;\n",
       "    }\n",
       "\n",
       "    .dataframe tbody tr th {\n",
       "        vertical-align: top;\n",
       "    }\n",
       "\n",
       "    .dataframe thead th {\n",
       "        text-align: right;\n",
       "    }\n",
       "</style>\n",
       "<table border=\"1\" class=\"dataframe\">\n",
       "  <thead>\n",
       "    <tr style=\"text-align: right;\">\n",
       "      <th></th>\n",
       "      <th>alpha_2</th>\n",
       "      <th>alpha_3</th>\n",
       "      <th>area</th>\n",
       "      <th>capital</th>\n",
       "      <th>continent</th>\n",
       "      <th>currency_code</th>\n",
       "      <th>currency_name</th>\n",
       "      <th>eqivalent_fips_code</th>\n",
       "      <th>fips</th>\n",
       "      <th>geoname_id</th>\n",
       "      <th>languages</th>\n",
       "      <th>name</th>\n",
       "      <th>neighbours</th>\n",
       "      <th>numeric</th>\n",
       "      <th>phone</th>\n",
       "      <th>population</th>\n",
       "      <th>postal_code_format</th>\n",
       "      <th>postal_code_regex</th>\n",
       "      <th>tld</th>\n",
       "    </tr>\n",
       "  </thead>\n",
       "  <tbody>\n",
       "    <tr>\n",
       "      <td>9</td>\n",
       "      <td>AR</td>\n",
       "      <td>ARG</td>\n",
       "      <td>2766890.0</td>\n",
       "      <td>Buenos Aires</td>\n",
       "      <td>SA</td>\n",
       "      <td>ARS</td>\n",
       "      <td>Peso</td>\n",
       "      <td></td>\n",
       "      <td>AR</td>\n",
       "      <td>3865483</td>\n",
       "      <td>es-AR,en,it,de,fr,gn</td>\n",
       "      <td>Argentina</td>\n",
       "      <td>CL,BO,UY,PY,BR</td>\n",
       "      <td>32</td>\n",
       "      <td>54</td>\n",
       "      <td>41343201</td>\n",
       "      <td>@####@@@</td>\n",
       "      <td>^[A-Z]?\\d{4}[A-Z]{0,3}$</td>\n",
       "      <td>.ar</td>\n",
       "    </tr>\n",
       "    <tr>\n",
       "      <td>13</td>\n",
       "      <td>AW</td>\n",
       "      <td>ABW</td>\n",
       "      <td>193.0</td>\n",
       "      <td>Oranjestad</td>\n",
       "      <td></td>\n",
       "      <td>AWG</td>\n",
       "      <td>Guilder</td>\n",
       "      <td></td>\n",
       "      <td>AA</td>\n",
       "      <td>3577279</td>\n",
       "      <td>nl-AW,es,en</td>\n",
       "      <td>Aruba</td>\n",
       "      <td></td>\n",
       "      <td>533</td>\n",
       "      <td>297</td>\n",
       "      <td>71566</td>\n",
       "      <td></td>\n",
       "      <td></td>\n",
       "      <td>.aw</td>\n",
       "    </tr>\n",
       "    <tr>\n",
       "      <td>28</td>\n",
       "      <td>BO</td>\n",
       "      <td>BOL</td>\n",
       "      <td>1098580.0</td>\n",
       "      <td>Sucre</td>\n",
       "      <td>SA</td>\n",
       "      <td>BOB</td>\n",
       "      <td>Boliviano</td>\n",
       "      <td></td>\n",
       "      <td>BL</td>\n",
       "      <td>3923057</td>\n",
       "      <td>es-BO,qu,ay</td>\n",
       "      <td>Bolivia</td>\n",
       "      <td>PE,CL,PY,BR,AR</td>\n",
       "      <td>68</td>\n",
       "      <td>591</td>\n",
       "      <td>9947418</td>\n",
       "      <td></td>\n",
       "      <td></td>\n",
       "      <td>.bo</td>\n",
       "    </tr>\n",
       "    <tr>\n",
       "      <td>30</td>\n",
       "      <td>BR</td>\n",
       "      <td>BRA</td>\n",
       "      <td>8511965.0</td>\n",
       "      <td>Brasilia</td>\n",
       "      <td>SA</td>\n",
       "      <td>BRL</td>\n",
       "      <td>Real</td>\n",
       "      <td></td>\n",
       "      <td>BR</td>\n",
       "      <td>3469034</td>\n",
       "      <td>pt-BR,es,en,fr</td>\n",
       "      <td>Brazil</td>\n",
       "      <td>SR,PE,BO,UY,GY,PY,GF,VE,CO,AR</td>\n",
       "      <td>76</td>\n",
       "      <td>55</td>\n",
       "      <td>201103330</td>\n",
       "      <td>#####-###</td>\n",
       "      <td>^\\d{5}-\\d{3}$</td>\n",
       "      <td>.br</td>\n",
       "    </tr>\n",
       "    <tr>\n",
       "      <td>36</td>\n",
       "      <td>BZ</td>\n",
       "      <td>BLZ</td>\n",
       "      <td>22966.0</td>\n",
       "      <td>Belmopan</td>\n",
       "      <td></td>\n",
       "      <td>BZD</td>\n",
       "      <td>Dollar</td>\n",
       "      <td></td>\n",
       "      <td>BH</td>\n",
       "      <td>3582678</td>\n",
       "      <td>en-BZ,es</td>\n",
       "      <td>Belize</td>\n",
       "      <td>GT,MX</td>\n",
       "      <td>84</td>\n",
       "      <td>501</td>\n",
       "      <td>314522</td>\n",
       "      <td></td>\n",
       "      <td></td>\n",
       "      <td>.bz</td>\n",
       "    </tr>\n",
       "    <tr>\n",
       "      <td>45</td>\n",
       "      <td>CL</td>\n",
       "      <td>CHL</td>\n",
       "      <td>756950.0</td>\n",
       "      <td>Santiago</td>\n",
       "      <td>SA</td>\n",
       "      <td>CLP</td>\n",
       "      <td>Peso</td>\n",
       "      <td></td>\n",
       "      <td>CI</td>\n",
       "      <td>3895114</td>\n",
       "      <td>es-CL</td>\n",
       "      <td>Chile</td>\n",
       "      <td>PE,BO,AR</td>\n",
       "      <td>152</td>\n",
       "      <td>56</td>\n",
       "      <td>16746491</td>\n",
       "      <td>#######</td>\n",
       "      <td>^(\\d{7})$</td>\n",
       "      <td>.cl</td>\n",
       "    </tr>\n",
       "    <tr>\n",
       "      <td>48</td>\n",
       "      <td>CO</td>\n",
       "      <td>COL</td>\n",
       "      <td>1138910.0</td>\n",
       "      <td>Bogota</td>\n",
       "      <td>SA</td>\n",
       "      <td>COP</td>\n",
       "      <td>Peso</td>\n",
       "      <td></td>\n",
       "      <td>CO</td>\n",
       "      <td>3686110</td>\n",
       "      <td>es-CO</td>\n",
       "      <td>Colombia</td>\n",
       "      <td>EC,PE,PA,BR,VE</td>\n",
       "      <td>170</td>\n",
       "      <td>57</td>\n",
       "      <td>47790000</td>\n",
       "      <td></td>\n",
       "      <td></td>\n",
       "      <td>.co</td>\n",
       "    </tr>\n",
       "    <tr>\n",
       "      <td>49</td>\n",
       "      <td>CR</td>\n",
       "      <td>CRI</td>\n",
       "      <td>51100.0</td>\n",
       "      <td>San Jose</td>\n",
       "      <td></td>\n",
       "      <td>CRC</td>\n",
       "      <td>Colon</td>\n",
       "      <td></td>\n",
       "      <td>CS</td>\n",
       "      <td>3624060</td>\n",
       "      <td>es-CR,en</td>\n",
       "      <td>Costa Rica</td>\n",
       "      <td>PA,NI</td>\n",
       "      <td>188</td>\n",
       "      <td>506</td>\n",
       "      <td>4516220</td>\n",
       "      <td>####</td>\n",
       "      <td>^(\\d{4})$</td>\n",
       "      <td>.cr</td>\n",
       "    </tr>\n",
       "    <tr>\n",
       "      <td>50</td>\n",
       "      <td>CU</td>\n",
       "      <td>CUB</td>\n",
       "      <td>110860.0</td>\n",
       "      <td>Havana</td>\n",
       "      <td></td>\n",
       "      <td>CUP</td>\n",
       "      <td>Peso</td>\n",
       "      <td></td>\n",
       "      <td>CU</td>\n",
       "      <td>3562981</td>\n",
       "      <td>es-CU</td>\n",
       "      <td>Cuba</td>\n",
       "      <td>US</td>\n",
       "      <td>192</td>\n",
       "      <td>53</td>\n",
       "      <td>11423000</td>\n",
       "      <td>CP #####</td>\n",
       "      <td>^(?:CP)*(\\d{5})$</td>\n",
       "      <td>.cu</td>\n",
       "    </tr>\n",
       "    <tr>\n",
       "      <td>60</td>\n",
       "      <td>DO</td>\n",
       "      <td>DOM</td>\n",
       "      <td>48730.0</td>\n",
       "      <td>Santo Domingo</td>\n",
       "      <td></td>\n",
       "      <td>DOP</td>\n",
       "      <td>Peso</td>\n",
       "      <td></td>\n",
       "      <td>DR</td>\n",
       "      <td>3508796</td>\n",
       "      <td>es-DO</td>\n",
       "      <td>Dominican Republic</td>\n",
       "      <td>HT</td>\n",
       "      <td>214</td>\n",
       "      <td>+1-809 and 1-829</td>\n",
       "      <td>9823821</td>\n",
       "      <td>#####</td>\n",
       "      <td>^(\\d{5})$</td>\n",
       "      <td>.do</td>\n",
       "    </tr>\n",
       "    <tr>\n",
       "      <td>62</td>\n",
       "      <td>EC</td>\n",
       "      <td>ECU</td>\n",
       "      <td>283560.0</td>\n",
       "      <td>Quito</td>\n",
       "      <td>SA</td>\n",
       "      <td>USD</td>\n",
       "      <td>Dollar</td>\n",
       "      <td></td>\n",
       "      <td>EC</td>\n",
       "      <td>3658394</td>\n",
       "      <td>es-EC</td>\n",
       "      <td>Ecuador</td>\n",
       "      <td>PE,CO</td>\n",
       "      <td>218</td>\n",
       "      <td>593</td>\n",
       "      <td>14790608</td>\n",
       "      <td>@####@</td>\n",
       "      <td>^([a-zA-Z]\\d{4}[a-zA-Z])$</td>\n",
       "      <td>.ec</td>\n",
       "    </tr>\n",
       "    <tr>\n",
       "      <td>67</td>\n",
       "      <td>ES</td>\n",
       "      <td>ESP</td>\n",
       "      <td>504782.0</td>\n",
       "      <td>Madrid</td>\n",
       "      <td>EU</td>\n",
       "      <td>EUR</td>\n",
       "      <td>Euro</td>\n",
       "      <td></td>\n",
       "      <td>SP</td>\n",
       "      <td>2510769</td>\n",
       "      <td>es-ES,ca,gl,eu,oc</td>\n",
       "      <td>Spain</td>\n",
       "      <td>AD,PT,GI,FR,MA</td>\n",
       "      <td>724</td>\n",
       "      <td>34</td>\n",
       "      <td>46505963</td>\n",
       "      <td>#####</td>\n",
       "      <td>^(\\d{5})$</td>\n",
       "      <td>.es</td>\n",
       "    </tr>\n",
       "    <tr>\n",
       "      <td>82</td>\n",
       "      <td>GI</td>\n",
       "      <td>GIB</td>\n",
       "      <td>6.5</td>\n",
       "      <td>Gibraltar</td>\n",
       "      <td>EU</td>\n",
       "      <td>GIP</td>\n",
       "      <td>Pound</td>\n",
       "      <td></td>\n",
       "      <td>GI</td>\n",
       "      <td>2411586</td>\n",
       "      <td>en-GI,es,it,pt</td>\n",
       "      <td>Gibraltar</td>\n",
       "      <td>ES</td>\n",
       "      <td>292</td>\n",
       "      <td>350</td>\n",
       "      <td>27884</td>\n",
       "      <td></td>\n",
       "      <td></td>\n",
       "      <td>.gi</td>\n",
       "    </tr>\n",
       "    <tr>\n",
       "      <td>87</td>\n",
       "      <td>GQ</td>\n",
       "      <td>GNQ</td>\n",
       "      <td>28051.0</td>\n",
       "      <td>Malabo</td>\n",
       "      <td>AF</td>\n",
       "      <td>XAF</td>\n",
       "      <td>Franc</td>\n",
       "      <td></td>\n",
       "      <td>EK</td>\n",
       "      <td>2309096</td>\n",
       "      <td>es-GQ,fr</td>\n",
       "      <td>Equatorial Guinea</td>\n",
       "      <td>GA,CM</td>\n",
       "      <td>226</td>\n",
       "      <td>240</td>\n",
       "      <td>1014999</td>\n",
       "      <td></td>\n",
       "      <td></td>\n",
       "      <td>.gq</td>\n",
       "    </tr>\n",
       "    <tr>\n",
       "      <td>90</td>\n",
       "      <td>GT</td>\n",
       "      <td>GTM</td>\n",
       "      <td>108890.0</td>\n",
       "      <td>Guatemala City</td>\n",
       "      <td></td>\n",
       "      <td>GTQ</td>\n",
       "      <td>Quetzal</td>\n",
       "      <td></td>\n",
       "      <td>GT</td>\n",
       "      <td>3595528</td>\n",
       "      <td>es-GT</td>\n",
       "      <td>Guatemala</td>\n",
       "      <td>MX,HN,BZ,SV</td>\n",
       "      <td>320</td>\n",
       "      <td>502</td>\n",
       "      <td>13550440</td>\n",
       "      <td>#####</td>\n",
       "      <td>^(\\d{5})$</td>\n",
       "      <td>.gt</td>\n",
       "    </tr>\n",
       "    <tr>\n",
       "      <td>96</td>\n",
       "      <td>HN</td>\n",
       "      <td>HND</td>\n",
       "      <td>112090.0</td>\n",
       "      <td>Tegucigalpa</td>\n",
       "      <td></td>\n",
       "      <td>HNL</td>\n",
       "      <td>Lempira</td>\n",
       "      <td></td>\n",
       "      <td>HO</td>\n",
       "      <td>3608932</td>\n",
       "      <td>es-HN</td>\n",
       "      <td>Honduras</td>\n",
       "      <td>GT,NI,SV</td>\n",
       "      <td>340</td>\n",
       "      <td>504</td>\n",
       "      <td>7989415</td>\n",
       "      <td>@@####</td>\n",
       "      <td>^([A-Z]{2}\\d{4})$</td>\n",
       "      <td>.hn</td>\n",
       "    </tr>\n",
       "    <tr>\n",
       "      <td>157</td>\n",
       "      <td>MX</td>\n",
       "      <td>MEX</td>\n",
       "      <td>1972550.0</td>\n",
       "      <td>Mexico City</td>\n",
       "      <td></td>\n",
       "      <td>MXN</td>\n",
       "      <td>Peso</td>\n",
       "      <td></td>\n",
       "      <td>MX</td>\n",
       "      <td>3996063</td>\n",
       "      <td>es-MX</td>\n",
       "      <td>Mexico</td>\n",
       "      <td>GT,US,BZ</td>\n",
       "      <td>484</td>\n",
       "      <td>52</td>\n",
       "      <td>112468855</td>\n",
       "      <td>#####</td>\n",
       "      <td>^(\\d{5})$</td>\n",
       "      <td>.mx</td>\n",
       "    </tr>\n",
       "    <tr>\n",
       "      <td>165</td>\n",
       "      <td>NI</td>\n",
       "      <td>NIC</td>\n",
       "      <td>129494.0</td>\n",
       "      <td>Managua</td>\n",
       "      <td></td>\n",
       "      <td>NIO</td>\n",
       "      <td>Cordoba</td>\n",
       "      <td></td>\n",
       "      <td>NU</td>\n",
       "      <td>3617476</td>\n",
       "      <td>es-NI,en</td>\n",
       "      <td>Nicaragua</td>\n",
       "      <td>CR,HN</td>\n",
       "      <td>558</td>\n",
       "      <td>505</td>\n",
       "      <td>5995928</td>\n",
       "      <td>###-###-#</td>\n",
       "      <td>^(\\d{7})$</td>\n",
       "      <td>.ni</td>\n",
       "    </tr>\n",
       "    <tr>\n",
       "      <td>173</td>\n",
       "      <td>PA</td>\n",
       "      <td>PAN</td>\n",
       "      <td>78200.0</td>\n",
       "      <td>Panama City</td>\n",
       "      <td></td>\n",
       "      <td>PAB</td>\n",
       "      <td>Balboa</td>\n",
       "      <td></td>\n",
       "      <td>PM</td>\n",
       "      <td>3703430</td>\n",
       "      <td>es-PA,en</td>\n",
       "      <td>Panama</td>\n",
       "      <td>CR,CO</td>\n",
       "      <td>591</td>\n",
       "      <td>507</td>\n",
       "      <td>3410676</td>\n",
       "      <td></td>\n",
       "      <td></td>\n",
       "      <td>.pa</td>\n",
       "    </tr>\n",
       "    <tr>\n",
       "      <td>174</td>\n",
       "      <td>PE</td>\n",
       "      <td>PER</td>\n",
       "      <td>1285220.0</td>\n",
       "      <td>Lima</td>\n",
       "      <td>SA</td>\n",
       "      <td>PEN</td>\n",
       "      <td>Sol</td>\n",
       "      <td></td>\n",
       "      <td>PE</td>\n",
       "      <td>3932488</td>\n",
       "      <td>es-PE,qu,ay</td>\n",
       "      <td>Peru</td>\n",
       "      <td>EC,CL,BO,BR,CO</td>\n",
       "      <td>604</td>\n",
       "      <td>51</td>\n",
       "      <td>29907003</td>\n",
       "      <td></td>\n",
       "      <td></td>\n",
       "      <td>.pe</td>\n",
       "    </tr>\n",
       "    <tr>\n",
       "      <td>182</td>\n",
       "      <td>PR</td>\n",
       "      <td>PRI</td>\n",
       "      <td>9104.0</td>\n",
       "      <td>San Juan</td>\n",
       "      <td></td>\n",
       "      <td>USD</td>\n",
       "      <td>Dollar</td>\n",
       "      <td></td>\n",
       "      <td>RQ</td>\n",
       "      <td>4566966</td>\n",
       "      <td>en-PR,es-PR</td>\n",
       "      <td>Puerto Rico</td>\n",
       "      <td></td>\n",
       "      <td>630</td>\n",
       "      <td>+1-787 and 1-939</td>\n",
       "      <td>3916632</td>\n",
       "      <td>#####-####</td>\n",
       "      <td>^00[679]\\d{2}(?:-\\d{4})?$</td>\n",
       "      <td>.pr</td>\n",
       "    </tr>\n",
       "    <tr>\n",
       "      <td>186</td>\n",
       "      <td>PY</td>\n",
       "      <td>PRY</td>\n",
       "      <td>406750.0</td>\n",
       "      <td>Asuncion</td>\n",
       "      <td>SA</td>\n",
       "      <td>PYG</td>\n",
       "      <td>Guarani</td>\n",
       "      <td></td>\n",
       "      <td>PA</td>\n",
       "      <td>3437598</td>\n",
       "      <td>es-PY,gn</td>\n",
       "      <td>Paraguay</td>\n",
       "      <td>BO,BR,AR</td>\n",
       "      <td>600</td>\n",
       "      <td>595</td>\n",
       "      <td>6375830</td>\n",
       "      <td>####</td>\n",
       "      <td>^(\\d{4})$</td>\n",
       "      <td>.py</td>\n",
       "    </tr>\n",
       "    <tr>\n",
       "      <td>187</td>\n",
       "      <td>QA</td>\n",
       "      <td>QAT</td>\n",
       "      <td>11437.0</td>\n",
       "      <td>Doha</td>\n",
       "      <td>AS</td>\n",
       "      <td>QAR</td>\n",
       "      <td>Rial</td>\n",
       "      <td></td>\n",
       "      <td>QA</td>\n",
       "      <td>289688</td>\n",
       "      <td>ar-QA,es</td>\n",
       "      <td>Qatar</td>\n",
       "      <td>SA</td>\n",
       "      <td>634</td>\n",
       "      <td>974</td>\n",
       "      <td>840926</td>\n",
       "      <td></td>\n",
       "      <td></td>\n",
       "      <td>.qa</td>\n",
       "    </tr>\n",
       "    <tr>\n",
       "      <td>210</td>\n",
       "      <td>SV</td>\n",
       "      <td>SLV</td>\n",
       "      <td>21040.0</td>\n",
       "      <td>San Salvador</td>\n",
       "      <td></td>\n",
       "      <td>USD</td>\n",
       "      <td>Dollar</td>\n",
       "      <td></td>\n",
       "      <td>ES</td>\n",
       "      <td>3585968</td>\n",
       "      <td>es-SV</td>\n",
       "      <td>El Salvador</td>\n",
       "      <td>GT,HN</td>\n",
       "      <td>222</td>\n",
       "      <td>503</td>\n",
       "      <td>6052064</td>\n",
       "      <td>CP ####</td>\n",
       "      <td>^(?:CP)*(\\d{4})$</td>\n",
       "      <td>.sv</td>\n",
       "    </tr>\n",
       "    <tr>\n",
       "      <td>226</td>\n",
       "      <td>TT</td>\n",
       "      <td>TTO</td>\n",
       "      <td>5128.0</td>\n",
       "      <td>Port of Spain</td>\n",
       "      <td></td>\n",
       "      <td>TTD</td>\n",
       "      <td>Dollar</td>\n",
       "      <td></td>\n",
       "      <td>TD</td>\n",
       "      <td>3573591</td>\n",
       "      <td>en-TT,hns,fr,es,zh</td>\n",
       "      <td>Trinidad and Tobago</td>\n",
       "      <td></td>\n",
       "      <td>780</td>\n",
       "      <td>+1-868</td>\n",
       "      <td>1228691</td>\n",
       "      <td></td>\n",
       "      <td></td>\n",
       "      <td>.tt</td>\n",
       "    </tr>\n",
       "    <tr>\n",
       "      <td>233</td>\n",
       "      <td>US</td>\n",
       "      <td>USA</td>\n",
       "      <td>9629091.0</td>\n",
       "      <td>Washington</td>\n",
       "      <td></td>\n",
       "      <td>USD</td>\n",
       "      <td>Dollar</td>\n",
       "      <td></td>\n",
       "      <td>US</td>\n",
       "      <td>6252001</td>\n",
       "      <td>en-US,es-US,haw,fr</td>\n",
       "      <td>United States</td>\n",
       "      <td>CA,MX,CU</td>\n",
       "      <td>840</td>\n",
       "      <td>1</td>\n",
       "      <td>310232863</td>\n",
       "      <td>#####-####</td>\n",
       "      <td>^\\d{5}(-\\d{4})?$</td>\n",
       "      <td>.us</td>\n",
       "    </tr>\n",
       "    <tr>\n",
       "      <td>234</td>\n",
       "      <td>UY</td>\n",
       "      <td>URY</td>\n",
       "      <td>176220.0</td>\n",
       "      <td>Montevideo</td>\n",
       "      <td>SA</td>\n",
       "      <td>UYU</td>\n",
       "      <td>Peso</td>\n",
       "      <td></td>\n",
       "      <td>UY</td>\n",
       "      <td>3439705</td>\n",
       "      <td>es-UY</td>\n",
       "      <td>Uruguay</td>\n",
       "      <td>BR,AR</td>\n",
       "      <td>858</td>\n",
       "      <td>598</td>\n",
       "      <td>3477000</td>\n",
       "      <td>#####</td>\n",
       "      <td>^(\\d{5})$</td>\n",
       "      <td>.uy</td>\n",
       "    </tr>\n",
       "    <tr>\n",
       "      <td>238</td>\n",
       "      <td>VE</td>\n",
       "      <td>VEN</td>\n",
       "      <td>912050.0</td>\n",
       "      <td>Caracas</td>\n",
       "      <td>SA</td>\n",
       "      <td>VEF</td>\n",
       "      <td>Bolivar</td>\n",
       "      <td></td>\n",
       "      <td>VE</td>\n",
       "      <td>3625428</td>\n",
       "      <td>es-VE</td>\n",
       "      <td>Venezuela</td>\n",
       "      <td>GY,BR,CO</td>\n",
       "      <td>862</td>\n",
       "      <td>58</td>\n",
       "      <td>27223228</td>\n",
       "      <td>####</td>\n",
       "      <td>^(\\d{4})$</td>\n",
       "      <td>.ve</td>\n",
       "    </tr>\n",
       "    <tr>\n",
       "      <td>251</td>\n",
       "      <td>AN</td>\n",
       "      <td>ANT</td>\n",
       "      <td>960.0</td>\n",
       "      <td>Willemstad</td>\n",
       "      <td></td>\n",
       "      <td>ANG</td>\n",
       "      <td>Guilder</td>\n",
       "      <td></td>\n",
       "      <td>NT</td>\n",
       "      <td>8505032</td>\n",
       "      <td>nl-AN,en,es</td>\n",
       "      <td>Netherlands Antilles</td>\n",
       "      <td>GP</td>\n",
       "      <td>530</td>\n",
       "      <td>599</td>\n",
       "      <td>300000</td>\n",
       "      <td></td>\n",
       "      <td></td>\n",
       "      <td>.an</td>\n",
       "    </tr>\n",
       "  </tbody>\n",
       "</table>\n",
       "</div>"
      ],
      "text/plain": [
       "    alpha_2 alpha_3       area         capital continent currency_code  \\\n",
       "9        AR     ARG  2766890.0    Buenos Aires        SA           ARS   \n",
       "13       AW     ABW      193.0      Oranjestad                     AWG   \n",
       "28       BO     BOL  1098580.0           Sucre        SA           BOB   \n",
       "30       BR     BRA  8511965.0        Brasilia        SA           BRL   \n",
       "36       BZ     BLZ    22966.0        Belmopan                     BZD   \n",
       "45       CL     CHL   756950.0        Santiago        SA           CLP   \n",
       "48       CO     COL  1138910.0          Bogota        SA           COP   \n",
       "49       CR     CRI    51100.0        San Jose                     CRC   \n",
       "50       CU     CUB   110860.0          Havana                     CUP   \n",
       "60       DO     DOM    48730.0   Santo Domingo                     DOP   \n",
       "62       EC     ECU   283560.0           Quito        SA           USD   \n",
       "67       ES     ESP   504782.0          Madrid        EU           EUR   \n",
       "82       GI     GIB        6.5       Gibraltar        EU           GIP   \n",
       "87       GQ     GNQ    28051.0          Malabo        AF           XAF   \n",
       "90       GT     GTM   108890.0  Guatemala City                     GTQ   \n",
       "96       HN     HND   112090.0     Tegucigalpa                     HNL   \n",
       "157      MX     MEX  1972550.0     Mexico City                     MXN   \n",
       "165      NI     NIC   129494.0         Managua                     NIO   \n",
       "173      PA     PAN    78200.0     Panama City                     PAB   \n",
       "174      PE     PER  1285220.0            Lima        SA           PEN   \n",
       "182      PR     PRI     9104.0        San Juan                     USD   \n",
       "186      PY     PRY   406750.0        Asuncion        SA           PYG   \n",
       "187      QA     QAT    11437.0            Doha        AS           QAR   \n",
       "210      SV     SLV    21040.0    San Salvador                     USD   \n",
       "226      TT     TTO     5128.0   Port of Spain                     TTD   \n",
       "233      US     USA  9629091.0      Washington                     USD   \n",
       "234      UY     URY   176220.0      Montevideo        SA           UYU   \n",
       "238      VE     VEN   912050.0         Caracas        SA           VEF   \n",
       "251      AN     ANT      960.0      Willemstad                     ANG   \n",
       "\n",
       "    currency_name eqivalent_fips_code fips  geoname_id             languages  \\\n",
       "9            Peso                       AR     3865483  es-AR,en,it,de,fr,gn   \n",
       "13        Guilder                       AA     3577279           nl-AW,es,en   \n",
       "28      Boliviano                       BL     3923057           es-BO,qu,ay   \n",
       "30           Real                       BR     3469034        pt-BR,es,en,fr   \n",
       "36         Dollar                       BH     3582678              en-BZ,es   \n",
       "45           Peso                       CI     3895114                 es-CL   \n",
       "48           Peso                       CO     3686110                 es-CO   \n",
       "49          Colon                       CS     3624060              es-CR,en   \n",
       "50           Peso                       CU     3562981                 es-CU   \n",
       "60           Peso                       DR     3508796                 es-DO   \n",
       "62         Dollar                       EC     3658394                 es-EC   \n",
       "67           Euro                       SP     2510769     es-ES,ca,gl,eu,oc   \n",
       "82          Pound                       GI     2411586        en-GI,es,it,pt   \n",
       "87          Franc                       EK     2309096              es-GQ,fr   \n",
       "90        Quetzal                       GT     3595528                 es-GT   \n",
       "96        Lempira                       HO     3608932                 es-HN   \n",
       "157          Peso                       MX     3996063                 es-MX   \n",
       "165       Cordoba                       NU     3617476              es-NI,en   \n",
       "173        Balboa                       PM     3703430              es-PA,en   \n",
       "174           Sol                       PE     3932488           es-PE,qu,ay   \n",
       "182        Dollar                       RQ     4566966           en-PR,es-PR   \n",
       "186       Guarani                       PA     3437598              es-PY,gn   \n",
       "187          Rial                       QA      289688              ar-QA,es   \n",
       "210        Dollar                       ES     3585968                 es-SV   \n",
       "226        Dollar                       TD     3573591    en-TT,hns,fr,es,zh   \n",
       "233        Dollar                       US     6252001    en-US,es-US,haw,fr   \n",
       "234          Peso                       UY     3439705                 es-UY   \n",
       "238       Bolivar                       VE     3625428                 es-VE   \n",
       "251       Guilder                       NT     8505032           nl-AN,en,es   \n",
       "\n",
       "                     name                     neighbours  numeric  \\\n",
       "9               Argentina                 CL,BO,UY,PY,BR       32   \n",
       "13                  Aruba                                     533   \n",
       "28                Bolivia                 PE,CL,PY,BR,AR       68   \n",
       "30                 Brazil  SR,PE,BO,UY,GY,PY,GF,VE,CO,AR       76   \n",
       "36                 Belize                          GT,MX       84   \n",
       "45                  Chile                       PE,BO,AR      152   \n",
       "48               Colombia                 EC,PE,PA,BR,VE      170   \n",
       "49             Costa Rica                          PA,NI      188   \n",
       "50                   Cuba                             US      192   \n",
       "60     Dominican Republic                             HT      214   \n",
       "62                Ecuador                          PE,CO      218   \n",
       "67                  Spain                 AD,PT,GI,FR,MA      724   \n",
       "82              Gibraltar                             ES      292   \n",
       "87      Equatorial Guinea                          GA,CM      226   \n",
       "90              Guatemala                    MX,HN,BZ,SV      320   \n",
       "96               Honduras                       GT,NI,SV      340   \n",
       "157                Mexico                       GT,US,BZ      484   \n",
       "165             Nicaragua                          CR,HN      558   \n",
       "173                Panama                          CR,CO      591   \n",
       "174                  Peru                 EC,CL,BO,BR,CO      604   \n",
       "182           Puerto Rico                                     630   \n",
       "186              Paraguay                       BO,BR,AR      600   \n",
       "187                 Qatar                             SA      634   \n",
       "210           El Salvador                          GT,HN      222   \n",
       "226   Trinidad and Tobago                                     780   \n",
       "233         United States                       CA,MX,CU      840   \n",
       "234               Uruguay                          BR,AR      858   \n",
       "238             Venezuela                       GY,BR,CO      862   \n",
       "251  Netherlands Antilles                             GP      530   \n",
       "\n",
       "                phone  population postal_code_format  \\\n",
       "9                  54    41343201           @####@@@   \n",
       "13                297       71566                      \n",
       "28                591     9947418                      \n",
       "30                 55   201103330          #####-###   \n",
       "36                501      314522                      \n",
       "45                 56    16746491            #######   \n",
       "48                 57    47790000                      \n",
       "49                506     4516220               ####   \n",
       "50                 53    11423000           CP #####   \n",
       "60   +1-809 and 1-829     9823821              #####   \n",
       "62                593    14790608             @####@   \n",
       "67                 34    46505963              #####   \n",
       "82                350       27884                      \n",
       "87                240     1014999                      \n",
       "90                502    13550440              #####   \n",
       "96                504     7989415             @@####   \n",
       "157                52   112468855              #####   \n",
       "165               505     5995928          ###-###-#   \n",
       "173               507     3410676                      \n",
       "174                51    29907003                      \n",
       "182  +1-787 and 1-939     3916632         #####-####   \n",
       "186               595     6375830               ####   \n",
       "187               974      840926                      \n",
       "210               503     6052064            CP ####   \n",
       "226            +1-868     1228691                      \n",
       "233                 1   310232863         #####-####   \n",
       "234               598     3477000              #####   \n",
       "238                58    27223228               ####   \n",
       "251               599      300000                      \n",
       "\n",
       "             postal_code_regex  tld  \n",
       "9      ^[A-Z]?\\d{4}[A-Z]{0,3}$  .ar  \n",
       "13                              .aw  \n",
       "28                              .bo  \n",
       "30               ^\\d{5}-\\d{3}$  .br  \n",
       "36                              .bz  \n",
       "45                   ^(\\d{7})$  .cl  \n",
       "48                              .co  \n",
       "49                   ^(\\d{4})$  .cr  \n",
       "50            ^(?:CP)*(\\d{5})$  .cu  \n",
       "60                   ^(\\d{5})$  .do  \n",
       "62   ^([a-zA-Z]\\d{4}[a-zA-Z])$  .ec  \n",
       "67                   ^(\\d{5})$  .es  \n",
       "82                              .gi  \n",
       "87                              .gq  \n",
       "90                   ^(\\d{5})$  .gt  \n",
       "96           ^([A-Z]{2}\\d{4})$  .hn  \n",
       "157                  ^(\\d{5})$  .mx  \n",
       "165                  ^(\\d{7})$  .ni  \n",
       "173                             .pa  \n",
       "174                             .pe  \n",
       "182  ^00[679]\\d{2}(?:-\\d{4})?$  .pr  \n",
       "186                  ^(\\d{4})$  .py  \n",
       "187                             .qa  \n",
       "210           ^(?:CP)*(\\d{4})$  .sv  \n",
       "226                             .tt  \n",
       "233           ^\\d{5}(-\\d{4})?$  .us  \n",
       "234                  ^(\\d{5})$  .uy  \n",
       "238                  ^(\\d{4})$  .ve  \n",
       "251                             .an  "
      ]
     },
     "execution_count": 78,
     "metadata": {},
     "output_type": "execute_result"
    }
   ],
   "source": [
    "df_espanol = df.replace(np.nan, '', regex=True)\n",
    "df_espanol = df_espanol[ df_espanol['languages'].str.contains('es') ]\n",
    "df_espanol"
   ]
  },
  {
   "cell_type": "code",
   "execution_count": 79,
   "metadata": {
    "ExecuteTime": {
     "end_time": "2019-12-08T22:02:40.210324Z",
     "start_time": "2019-12-08T22:02:40.202616Z"
    }
   },
   "outputs": [
    {
     "data": {
      "text/plain": [
       "(29, 19)"
      ]
     },
     "execution_count": 79,
     "metadata": {},
     "output_type": "execute_result"
    }
   ],
   "source": [
    "df_espanol.shape"
   ]
  },
  {
   "cell_type": "markdown",
   "metadata": {},
   "source": [
    "## Visualicemos por población"
   ]
  },
  {
   "cell_type": "code",
   "execution_count": 80,
   "metadata": {
    "ExecuteTime": {
     "end_time": "2019-12-08T22:02:40.806679Z",
     "start_time": "2019-12-08T22:02:40.213973Z"
    }
   },
   "outputs": [
    {
     "data": {
      "text/plain": [
       "<matplotlib.axes._subplots.AxesSubplot at 0x11ef08898>"
      ]
     },
     "execution_count": 80,
     "metadata": {},
     "output_type": "execute_result"
    },
    {
     "data": {
      "image/png": "[encoded data removed]",
      "text/plain": [
       "<Figure size 1440x720 with 1 Axes>"
      ]
     },
     "metadata": {
      "needs_background": "light"
     },
     "output_type": "display_data"
    }
   ],
   "source": [
    "df_espanol.set_index('alpha_3')[['population','area']].plot(kind='bar',rot=65,figsize=(20,10))"
   ]
  },
  {
   "cell_type": "markdown",
   "metadata": {},
   "source": [
    "## Detección de Outliers"
   ]
  },
  {
   "cell_type": "code",
   "execution_count": 82,
   "metadata": {
    "ExecuteTime": {
     "end_time": "2019-12-08T22:02:55.543787Z",
     "start_time": "2019-12-08T22:02:55.521193Z"
    }
   },
   "outputs": [
    {
     "name": "stdout",
     "output_type": "stream",
     "text": [
      "-102872707.87855022\n",
      "167589161.25786057\n"
     ]
    },
    {
     "data": {
      "text/plain": [
       "['BRA', 'USA']"
      ]
     },
     "execution_count": 82,
     "metadata": {},
     "output_type": "execute_result"
    }
   ],
   "source": [
    "anomalies = []\n",
    "\n",
    "# Funcion ejemplo para detección de outliers\n",
    "def find_anomalies(data):\n",
    "    # Set upper and lower limit to 2 standard deviation\n",
    "    data_std = data.std()\n",
    "    data_mean = data.mean()\n",
    "    anomaly_cut_off = data_std * 2\n",
    "    lower_limit  = data_mean - anomaly_cut_off \n",
    "    upper_limit = data_mean + anomaly_cut_off\n",
    "    print(lower_limit.iloc[0])\n",
    "    print(upper_limit.iloc[0])\n",
    "\n",
    "    # Generate outliers\n",
    "    for index, row in data.iterrows():\n",
    "        outlier = row # # obtener primer columna\n",
    "        # print(outlier)\n",
    "        if (outlier.iloc[0] > upper_limit.iloc[0]) or (outlier.iloc[0] < lower_limit.iloc[0]):\n",
    "            anomalies.append(index)\n",
    "    return anomalies\n",
    "\n",
    "find_anomalies(df_espanol.set_index('alpha_3')[['population']])"
   ]
  },
  {
   "cell_type": "code",
   "execution_count": 83,
   "metadata": {
    "ExecuteTime": {
     "end_time": "2019-12-08T22:03:21.432811Z",
     "start_time": "2019-12-08T22:03:21.427535Z"
    }
   },
   "outputs": [],
   "source": [
    "# Quitemos BRA y USA por ser outlies y volvamos a graficar:\n",
    "df_espanol.drop([30,233], inplace=True)"
   ]
  },
  {
   "cell_type": "code",
   "execution_count": 84,
   "metadata": {
    "ExecuteTime": {
     "end_time": "2019-12-08T22:03:22.946923Z",
     "start_time": "2019-12-08T22:03:22.477307Z"
    }
   },
   "outputs": [
    {
     "data": {
      "text/plain": [
       "<matplotlib.axes._subplots.AxesSubplot at 0x1235486a0>"
      ]
     },
     "execution_count": 84,
     "metadata": {},
     "output_type": "execute_result"
    },
    {
     "data": {
      "image/png": "[encoded data removed]",
      "text/plain": [
       "<Figure size 1440x720 with 1 Axes>"
      ]
     },
     "metadata": {
      "needs_background": "light"
     },
     "output_type": "display_data"
    }
   ],
   "source": [
    "df_espanol.set_index('alpha_3')[['population','area']].plot(kind='bar',rot=65,figsize=(20,10))"
   ]
  },
  {
   "cell_type": "markdown",
   "metadata": {},
   "source": [
    "## Graficamos ordenando por tamaño Población"
   ]
  },
  {
   "cell_type": "code",
   "execution_count": 85,
   "metadata": {
    "ExecuteTime": {
     "end_time": "2019-12-08T22:03:26.045129Z",
     "start_time": "2019-12-08T22:03:25.515844Z"
    }
   },
   "outputs": [
    {
     "data": {
      "text/plain": [
       "<matplotlib.axes._subplots.AxesSubplot at 0x123883a58>"
      ]
     },
     "execution_count": 85,
     "metadata": {},
     "output_type": "execute_result"
    },
    {
     "data": {
      "image/png": "[encoded data removed]",
      "text/plain": [
       "<Figure size 1440x720 with 1 Axes>"
      ]
     },
     "metadata": {
      "needs_background": "light"
     },
     "output_type": "display_data"
    }
   ],
   "source": [
    "df_espanol.set_index('alpha_3')[['population','area']].sort_values([\"population\"]).plot(kind='bar',rot=65,figsize=(20,10))"
   ]
  },
  {
   "cell_type": "markdown",
   "metadata": {},
   "source": [
    "## Visualización por Área"
   ]
  },
  {
   "cell_type": "code",
   "execution_count": 86,
   "metadata": {
    "ExecuteTime": {
     "end_time": "2019-12-08T22:03:28.127698Z",
     "start_time": "2019-12-08T22:03:27.680006Z"
    }
   },
   "outputs": [
    {
     "data": {
      "text/plain": [
       "<matplotlib.axes._subplots.AxesSubplot at 0x123cf0630>"
      ]
     },
     "execution_count": 86,
     "metadata": {},
     "output_type": "execute_result"
    },
    {
     "data": {
      "image/png": "[encoded data removed]",
      "text/plain": [
       "<Figure size 1440x720 with 1 Axes>"
      ]
     },
     "metadata": {
      "needs_background": "light"
     },
     "output_type": "display_data"
    }
   ],
   "source": [
    "4df_espanol.set_index('alpha_3')[['area']].sort_values([\"area\"]).plot(kind='bar',rot=65,figsize=(20,10))"
   ]
  },
  {
   "cell_type": "code",
   "execution_count": 95,
   "metadata": {
    "ExecuteTime": {
     "end_time": "2019-12-08T22:36:50.772742Z",
     "start_time": "2019-12-08T22:36:50.738258Z"
    }
   },
   "outputs": [
    {
     "data": {
      "text/html": [
       "<div>\n",
       "<style scoped>\n",
       "    .dataframe tbody tr th:only-of-type {\n",
       "        vertical-align: middle;\n",
       "    }\n",
       "\n",
       "    .dataframe tbody tr th {\n",
       "        vertical-align: top;\n",
       "    }\n",
       "\n",
       "    .dataframe thead th {\n",
       "        text-align: right;\n",
       "    }\n",
       "</style>\n",
       "<table border=\"1\" class=\"dataframe\">\n",
       "  <thead>\n",
       "    <tr style=\"text-align: right;\">\n",
       "      <th></th>\n",
       "      <th>alpha_2</th>\n",
       "      <th>area</th>\n",
       "      <th>capital</th>\n",
       "      <th>continent</th>\n",
       "      <th>currency_code</th>\n",
       "      <th>currency_name</th>\n",
       "      <th>eqivalent_fips_code</th>\n",
       "      <th>fips</th>\n",
       "      <th>geoname_id</th>\n",
       "      <th>languages</th>\n",
       "      <th>name</th>\n",
       "      <th>neighbours</th>\n",
       "      <th>numeric</th>\n",
       "      <th>phone</th>\n",
       "      <th>population</th>\n",
       "      <th>postal_code_format</th>\n",
       "      <th>postal_code_regex</th>\n",
       "      <th>tld</th>\n",
       "    </tr>\n",
       "    <tr>\n",
       "      <th>alpha_3</th>\n",
       "      <th></th>\n",
       "      <th></th>\n",
       "      <th></th>\n",
       "      <th></th>\n",
       "      <th></th>\n",
       "      <th></th>\n",
       "      <th></th>\n",
       "      <th></th>\n",
       "      <th></th>\n",
       "      <th></th>\n",
       "      <th></th>\n",
       "      <th></th>\n",
       "      <th></th>\n",
       "      <th></th>\n",
       "      <th></th>\n",
       "      <th></th>\n",
       "      <th></th>\n",
       "      <th></th>\n",
       "    </tr>\n",
       "  </thead>\n",
       "  <tbody>\n",
       "    <tr>\n",
       "      <td>ARG</td>\n",
       "      <td>AR</td>\n",
       "      <td>2766890.0</td>\n",
       "      <td>Buenos Aires</td>\n",
       "      <td>SA</td>\n",
       "      <td>ARS</td>\n",
       "      <td>Peso</td>\n",
       "      <td></td>\n",
       "      <td>AR</td>\n",
       "      <td>3865483</td>\n",
       "      <td>es-AR,en,it,de,fr,gn</td>\n",
       "      <td>Argentina</td>\n",
       "      <td>CL,BO,UY,PY,BR</td>\n",
       "      <td>32</td>\n",
       "      <td>54</td>\n",
       "      <td>41343201</td>\n",
       "      <td>@####@@@</td>\n",
       "      <td>^[A-Z]?\\d{4}[A-Z]{0,3}$</td>\n",
       "      <td>.ar</td>\n",
       "    </tr>\n",
       "    <tr>\n",
       "      <td>BOL</td>\n",
       "      <td>BO</td>\n",
       "      <td>1098580.0</td>\n",
       "      <td>Sucre</td>\n",
       "      <td>SA</td>\n",
       "      <td>BOB</td>\n",
       "      <td>Boliviano</td>\n",
       "      <td></td>\n",
       "      <td>BL</td>\n",
       "      <td>3923057</td>\n",
       "      <td>es-BO,qu,ay</td>\n",
       "      <td>Bolivia</td>\n",
       "      <td>PE,CL,PY,BR,AR</td>\n",
       "      <td>68</td>\n",
       "      <td>591</td>\n",
       "      <td>9947418</td>\n",
       "      <td></td>\n",
       "      <td></td>\n",
       "      <td>.bo</td>\n",
       "    </tr>\n",
       "    <tr>\n",
       "      <td>CHL</td>\n",
       "      <td>CL</td>\n",
       "      <td>756950.0</td>\n",
       "      <td>Santiago</td>\n",
       "      <td>SA</td>\n",
       "      <td>CLP</td>\n",
       "      <td>Peso</td>\n",
       "      <td></td>\n",
       "      <td>CI</td>\n",
       "      <td>3895114</td>\n",
       "      <td>es-CL</td>\n",
       "      <td>Chile</td>\n",
       "      <td>PE,BO,AR</td>\n",
       "      <td>152</td>\n",
       "      <td>56</td>\n",
       "      <td>16746491</td>\n",
       "      <td>#######</td>\n",
       "      <td>^(\\d{7})$</td>\n",
       "      <td>.cl</td>\n",
       "    </tr>\n",
       "    <tr>\n",
       "      <td>COL</td>\n",
       "      <td>CO</td>\n",
       "      <td>1138910.0</td>\n",
       "      <td>Bogota</td>\n",
       "      <td>SA</td>\n",
       "      <td>COP</td>\n",
       "      <td>Peso</td>\n",
       "      <td></td>\n",
       "      <td>CO</td>\n",
       "      <td>3686110</td>\n",
       "      <td>es-CO</td>\n",
       "      <td>Colombia</td>\n",
       "      <td>EC,PE,PA,BR,VE</td>\n",
       "      <td>170</td>\n",
       "      <td>57</td>\n",
       "      <td>47790000</td>\n",
       "      <td></td>\n",
       "      <td></td>\n",
       "      <td>.co</td>\n",
       "    </tr>\n",
       "    <tr>\n",
       "      <td>CUB</td>\n",
       "      <td>CU</td>\n",
       "      <td>110860.0</td>\n",
       "      <td>Havana</td>\n",
       "      <td></td>\n",
       "      <td>CUP</td>\n",
       "      <td>Peso</td>\n",
       "      <td></td>\n",
       "      <td>CU</td>\n",
       "      <td>3562981</td>\n",
       "      <td>es-CU</td>\n",
       "      <td>Cuba</td>\n",
       "      <td>US</td>\n",
       "      <td>192</td>\n",
       "      <td>53</td>\n",
       "      <td>11423000</td>\n",
       "      <td>CP #####</td>\n",
       "      <td>^(?:CP)*(\\d{5})$</td>\n",
       "      <td>.cu</td>\n",
       "    </tr>\n",
       "    <tr>\n",
       "      <td>ECU</td>\n",
       "      <td>EC</td>\n",
       "      <td>283560.0</td>\n",
       "      <td>Quito</td>\n",
       "      <td>SA</td>\n",
       "      <td>USD</td>\n",
       "      <td>Dollar</td>\n",
       "      <td></td>\n",
       "      <td>EC</td>\n",
       "      <td>3658394</td>\n",
       "      <td>es-EC</td>\n",
       "      <td>Ecuador</td>\n",
       "      <td>PE,CO</td>\n",
       "      <td>218</td>\n",
       "      <td>593</td>\n",
       "      <td>14790608</td>\n",
       "      <td>@####@</td>\n",
       "      <td>^([a-zA-Z]\\d{4}[a-zA-Z])$</td>\n",
       "      <td>.ec</td>\n",
       "    </tr>\n",
       "    <tr>\n",
       "      <td>ESP</td>\n",
       "      <td>ES</td>\n",
       "      <td>504782.0</td>\n",
       "      <td>Madrid</td>\n",
       "      <td>EU</td>\n",
       "      <td>EUR</td>\n",
       "      <td>Euro</td>\n",
       "      <td></td>\n",
       "      <td>SP</td>\n",
       "      <td>2510769</td>\n",
       "      <td>es-ES,ca,gl,eu,oc</td>\n",
       "      <td>Spain</td>\n",
       "      <td>AD,PT,GI,FR,MA</td>\n",
       "      <td>724</td>\n",
       "      <td>34</td>\n",
       "      <td>46505963</td>\n",
       "      <td>#####</td>\n",
       "      <td>^(\\d{5})$</td>\n",
       "      <td>.es</td>\n",
       "    </tr>\n",
       "    <tr>\n",
       "      <td>HND</td>\n",
       "      <td>HN</td>\n",
       "      <td>112090.0</td>\n",
       "      <td>Tegucigalpa</td>\n",
       "      <td></td>\n",
       "      <td>HNL</td>\n",
       "      <td>Lempira</td>\n",
       "      <td></td>\n",
       "      <td>HO</td>\n",
       "      <td>3608932</td>\n",
       "      <td>es-HN</td>\n",
       "      <td>Honduras</td>\n",
       "      <td>GT,NI,SV</td>\n",
       "      <td>340</td>\n",
       "      <td>504</td>\n",
       "      <td>7989415</td>\n",
       "      <td>@@####</td>\n",
       "      <td>^([A-Z]{2}\\d{4})$</td>\n",
       "      <td>.hn</td>\n",
       "    </tr>\n",
       "    <tr>\n",
       "      <td>MEX</td>\n",
       "      <td>MX</td>\n",
       "      <td>1972550.0</td>\n",
       "      <td>Mexico City</td>\n",
       "      <td></td>\n",
       "      <td>MXN</td>\n",
       "      <td>Peso</td>\n",
       "      <td></td>\n",
       "      <td>MX</td>\n",
       "      <td>3996063</td>\n",
       "      <td>es-MX</td>\n",
       "      <td>Mexico</td>\n",
       "      <td>GT,US,BZ</td>\n",
       "      <td>484</td>\n",
       "      <td>52</td>\n",
       "      <td>112468855</td>\n",
       "      <td>#####</td>\n",
       "      <td>^(\\d{5})$</td>\n",
       "      <td>.mx</td>\n",
       "    </tr>\n",
       "    <tr>\n",
       "      <td>NIC</td>\n",
       "      <td>NI</td>\n",
       "      <td>129494.0</td>\n",
       "      <td>Managua</td>\n",
       "      <td></td>\n",
       "      <td>NIO</td>\n",
       "      <td>Cordoba</td>\n",
       "      <td></td>\n",
       "      <td>NU</td>\n",
       "      <td>3617476</td>\n",
       "      <td>es-NI,en</td>\n",
       "      <td>Nicaragua</td>\n",
       "      <td>CR,HN</td>\n",
       "      <td>558</td>\n",
       "      <td>505</td>\n",
       "      <td>5995928</td>\n",
       "      <td>###-###-#</td>\n",
       "      <td>^(\\d{7})$</td>\n",
       "      <td>.ni</td>\n",
       "    </tr>\n",
       "    <tr>\n",
       "      <td>PER</td>\n",
       "      <td>PE</td>\n",
       "      <td>1285220.0</td>\n",
       "      <td>Lima</td>\n",
       "      <td>SA</td>\n",
       "      <td>PEN</td>\n",
       "      <td>Sol</td>\n",
       "      <td></td>\n",
       "      <td>PE</td>\n",
       "      <td>3932488</td>\n",
       "      <td>es-PE,qu,ay</td>\n",
       "      <td>Peru</td>\n",
       "      <td>EC,CL,BO,BR,CO</td>\n",
       "      <td>604</td>\n",
       "      <td>51</td>\n",
       "      <td>29907003</td>\n",
       "      <td></td>\n",
       "      <td></td>\n",
       "      <td>.pe</td>\n",
       "    </tr>\n",
       "    <tr>\n",
       "      <td>PRY</td>\n",
       "      <td>PY</td>\n",
       "      <td>406750.0</td>\n",
       "      <td>Asuncion</td>\n",
       "      <td>SA</td>\n",
       "      <td>PYG</td>\n",
       "      <td>Guarani</td>\n",
       "      <td></td>\n",
       "      <td>PA</td>\n",
       "      <td>3437598</td>\n",
       "      <td>es-PY,gn</td>\n",
       "      <td>Paraguay</td>\n",
       "      <td>BO,BR,AR</td>\n",
       "      <td>600</td>\n",
       "      <td>595</td>\n",
       "      <td>6375830</td>\n",
       "      <td>####</td>\n",
       "      <td>^(\\d{4})$</td>\n",
       "      <td>.py</td>\n",
       "    </tr>\n",
       "    <tr>\n",
       "      <td>URY</td>\n",
       "      <td>UY</td>\n",
       "      <td>176220.0</td>\n",
       "      <td>Montevideo</td>\n",
       "      <td>SA</td>\n",
       "      <td>UYU</td>\n",
       "      <td>Peso</td>\n",
       "      <td></td>\n",
       "      <td>UY</td>\n",
       "      <td>3439705</td>\n",
       "      <td>es-UY</td>\n",
       "      <td>Uruguay</td>\n",
       "      <td>BR,AR</td>\n",
       "      <td>858</td>\n",
       "      <td>598</td>\n",
       "      <td>3477000</td>\n",
       "      <td>#####</td>\n",
       "      <td>^(\\d{5})$</td>\n",
       "      <td>.uy</td>\n",
       "    </tr>\n",
       "    <tr>\n",
       "      <td>VEN</td>\n",
       "      <td>VE</td>\n",
       "      <td>912050.0</td>\n",
       "      <td>Caracas</td>\n",
       "      <td>SA</td>\n",
       "      <td>VEF</td>\n",
       "      <td>Bolivar</td>\n",
       "      <td></td>\n",
       "      <td>VE</td>\n",
       "      <td>3625428</td>\n",
       "      <td>es-VE</td>\n",
       "      <td>Venezuela</td>\n",
       "      <td>GY,BR,CO</td>\n",
       "      <td>862</td>\n",
       "      <td>58</td>\n",
       "      <td>27223228</td>\n",
       "      <td>####</td>\n",
       "      <td>^(\\d{4})$</td>\n",
       "      <td>.ve</td>\n",
       "    </tr>\n",
       "  </tbody>\n",
       "</table>\n",
       "</div>"
      ],
      "text/plain": [
       "        alpha_2       area       capital continent currency_code  \\\n",
       "alpha_3                                                            \n",
       "ARG          AR  2766890.0  Buenos Aires        SA           ARS   \n",
       "BOL          BO  1098580.0         Sucre        SA           BOB   \n",
       "CHL          CL   756950.0      Santiago        SA           CLP   \n",
       "COL          CO  1138910.0        Bogota        SA           COP   \n",
       "CUB          CU   110860.0        Havana                     CUP   \n",
       "ECU          EC   283560.0         Quito        SA           USD   \n",
       "ESP          ES   504782.0        Madrid        EU           EUR   \n",
       "HND          HN   112090.0   Tegucigalpa                     HNL   \n",
       "MEX          MX  1972550.0   Mexico City                     MXN   \n",
       "NIC          NI   129494.0       Managua                     NIO   \n",
       "PER          PE  1285220.0          Lima        SA           PEN   \n",
       "PRY          PY   406750.0      Asuncion        SA           PYG   \n",
       "URY          UY   176220.0    Montevideo        SA           UYU   \n",
       "VEN          VE   912050.0       Caracas        SA           VEF   \n",
       "\n",
       "        currency_name eqivalent_fips_code fips  geoname_id  \\\n",
       "alpha_3                                                      \n",
       "ARG              Peso                       AR     3865483   \n",
       "BOL         Boliviano                       BL     3923057   \n",
       "CHL              Peso                       CI     3895114   \n",
       "COL              Peso                       CO     3686110   \n",
       "CUB              Peso                       CU     3562981   \n",
       "ECU            Dollar                       EC     3658394   \n",
       "ESP              Euro                       SP     2510769   \n",
       "HND           Lempira                       HO     3608932   \n",
       "MEX              Peso                       MX     3996063   \n",
       "NIC           Cordoba                       NU     3617476   \n",
       "PER               Sol                       PE     3932488   \n",
       "PRY           Guarani                       PA     3437598   \n",
       "URY              Peso                       UY     3439705   \n",
       "VEN           Bolivar                       VE     3625428   \n",
       "\n",
       "                    languages       name      neighbours  numeric phone  \\\n",
       "alpha_3                                                                   \n",
       "ARG      es-AR,en,it,de,fr,gn  Argentina  CL,BO,UY,PY,BR       32    54   \n",
       "BOL               es-BO,qu,ay    Bolivia  PE,CL,PY,BR,AR       68   591   \n",
       "CHL                     es-CL      Chile        PE,BO,AR      152    56   \n",
       "COL                     es-CO   Colombia  EC,PE,PA,BR,VE      170    57   \n",
       "CUB                     es-CU       Cuba              US      192    53   \n",
       "ECU                     es-EC    Ecuador           PE,CO      218   593   \n",
       "ESP         es-ES,ca,gl,eu,oc      Spain  AD,PT,GI,FR,MA      724    34   \n",
       "HND                     es-HN   Honduras        GT,NI,SV      340   504   \n",
       "MEX                     es-MX     Mexico        GT,US,BZ      484    52   \n",
       "NIC                  es-NI,en  Nicaragua           CR,HN      558   505   \n",
       "PER               es-PE,qu,ay       Peru  EC,CL,BO,BR,CO      604    51   \n",
       "PRY                  es-PY,gn   Paraguay        BO,BR,AR      600   595   \n",
       "URY                     es-UY    Uruguay           BR,AR      858   598   \n",
       "VEN                     es-VE  Venezuela        GY,BR,CO      862    58   \n",
       "\n",
       "         population postal_code_format          postal_code_regex  tld  \n",
       "alpha_3                                                                 \n",
       "ARG        41343201           @####@@@    ^[A-Z]?\\d{4}[A-Z]{0,3}$  .ar  \n",
       "BOL         9947418                                                .bo  \n",
       "CHL        16746491            #######                  ^(\\d{7})$  .cl  \n",
       "COL        47790000                                                .co  \n",
       "CUB        11423000           CP #####           ^(?:CP)*(\\d{5})$  .cu  \n",
       "ECU        14790608             @####@  ^([a-zA-Z]\\d{4}[a-zA-Z])$  .ec  \n",
       "ESP        46505963              #####                  ^(\\d{5})$  .es  \n",
       "HND         7989415             @@####          ^([A-Z]{2}\\d{4})$  .hn  \n",
       "MEX       112468855              #####                  ^(\\d{5})$  .mx  \n",
       "NIC         5995928          ###-###-#                  ^(\\d{7})$  .ni  \n",
       "PER        29907003                                                .pe  \n",
       "PRY         6375830               ####                  ^(\\d{4})$  .py  \n",
       "URY         3477000              #####                  ^(\\d{5})$  .uy  \n",
       "VEN        27223228               ####                  ^(\\d{4})$  .ve  "
      ]
     },
     "execution_count": 95,
     "metadata": {},
     "output_type": "execute_result"
    }
   ],
   "source": [
    "# En este caso, podriamos quitar por \"lo bajo\", area menor a 110.000 km2:\n",
    "df_2 = df_espanol.set_index('alpha_3')\n",
    "df_2 = df_2[df_2['area'] > 110000]\n",
    "df_2"
   ]
  },
  {
   "cell_type": "code",
   "execution_count": 96,
   "metadata": {
    "ExecuteTime": {
     "end_time": "2019-12-08T22:36:55.622303Z",
     "start_time": "2019-12-08T22:36:55.227650Z"
    }
   },
   "outputs": [
    {
     "data": {
      "text/plain": [
       "<matplotlib.axes._subplots.AxesSubplot at 0x1c2777a048>"
      ]
     },
     "execution_count": 96,
     "metadata": {},
     "output_type": "execute_result"
    },
    {
     "data": {
      "image/png": "[encoded data removed]",
      "text/plain": [
       "<Figure size 1440x720 with 1 Axes>"
      ]
     },
     "metadata": {
      "needs_background": "light"
     },
     "output_type": "display_data"
    }
   ],
   "source": [
    "df_2[['area']].sort_values([\"area\"]).plot(kind='bar',rot=65,figsize=(20,10))"
   ]
  },
  {
   "cell_type": "code",
   "execution_count": null,
   "metadata": {},
   "outputs": [],
   "source": []
  }
 ],
 "metadata": {
  "kernelspec": {
   "display_name": "Python 3",
   "language": "python",
   "name": "python3"
  },
  "language_info": {
   "codemirror_mode": {
    "name": "ipython",
    "version": 3
   },
   "file_extension": ".py",
   "mimetype": "text/x-python",
   "name": "python",
   "nbconvert_exporter": "python",
   "pygments_lexer": "ipython3",
   "version": "3.6.9"
  }
 },
 "nbformat": 4,
 "nbformat_minor": 2
}
