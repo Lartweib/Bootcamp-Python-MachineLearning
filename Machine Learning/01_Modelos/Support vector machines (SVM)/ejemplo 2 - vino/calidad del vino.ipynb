{
  "metadata": {
    "language_info": {
      "codemirror_mode": {
        "name": "python",
        "version": 3
      },
      "file_extension": ".py",
      "mimetype": "text/x-python",
      "name": "python",
      "nbconvert_exporter": "python",
      "pygments_lexer": "ipython3",
      "version": "3.8"
    },
    "kernelspec": {
      "name": "python",
      "display_name": "Python (Pyodide)",
      "language": "python"
    }
  },
  "nbformat_minor": 4,
  "nbformat": 4,
  "cells": [
    {
      "cell_type": "markdown",
      "source": "# clasificar la calidad de un vino",
      "metadata": {}
    },
    {
      "cell_type": "code",
      "source": "import pandas as pd\nfrom sklearn.model_selection import train_test_split",
      "metadata": {
        "trusted": true
      },
      "execution_count": 1,
      "outputs": []
    },
    {
      "cell_type": "code",
      "source": "datos= pd.read_csv('wineq.csv')",
      "metadata": {
        "trusted": true
      },
      "execution_count": 5,
      "outputs": []
    },
    {
      "cell_type": "code",
      "source": "datos",
      "metadata": {
        "trusted": true
      },
      "execution_count": 7,
      "outputs": [
        {
          "execution_count": 7,
          "output_type": "execute_result",
          "data": {
            "text/plain": "      fixed acidity  volatile acidity  citric acid  residual sugar  chlorides  \\\n0               7.4             0.700         0.00             1.9      0.076   \n1               7.8             0.880         0.00             2.6      0.098   \n2               7.8             0.760         0.04             2.3      0.092   \n3              11.2             0.280         0.56             1.9      0.075   \n4               7.4             0.700         0.00             1.9      0.076   \n...             ...               ...          ...             ...        ...   \n1594            6.2             0.600         0.08             2.0      0.090   \n1595            5.9             0.550         0.10             2.2      0.062   \n1596            6.3             0.510         0.13             2.3      0.076   \n1597            5.9             0.645         0.12             2.0      0.075   \n1598            6.0             0.310         0.47             3.6      0.067   \n\n      free sulfur dioxide  total sulfur dioxide  density    pH  sulphates  \\\n0                    11.0                  34.0  0.99780  3.51       0.56   \n1                    25.0                  67.0  0.99680  3.20       0.68   \n2                    15.0                  54.0  0.99700  3.26       0.65   \n3                    17.0                  60.0  0.99800  3.16       0.58   \n4                    11.0                  34.0  0.99780  3.51       0.56   \n...                   ...                   ...      ...   ...        ...   \n1594                 32.0                  44.0  0.99490  3.45       0.58   \n1595                 39.0                  51.0  0.99512  3.52       0.76   \n1596                 29.0                  40.0  0.99574  3.42       0.75   \n1597                 32.0                  44.0  0.99547  3.57       0.71   \n1598                 18.0                  42.0  0.99549  3.39       0.66   \n\n      alcohol  quality  \n0         9.4        5  \n1         9.8        5  \n2         9.8        5  \n3         9.8        6  \n4         9.4        5  \n...       ...      ...  \n1594     10.5        5  \n1595     11.2        6  \n1596     11.0        6  \n1597     10.2        5  \n1598     11.0        6  \n\n[1599 rows x 12 columns]",
            "text/html": "<div>\n<style scoped>\n    .dataframe tbody tr th:only-of-type {\n        vertical-align: middle;\n    }\n\n    .dataframe tbody tr th {\n        vertical-align: top;\n    }\n\n    .dataframe thead th {\n        text-align: right;\n    }\n</style>\n<table border=\"1\" class=\"dataframe\">\n  <thead>\n    <tr style=\"text-align: right;\">\n      <th></th>\n      <th>fixed acidity</th>\n      <th>volatile acidity</th>\n      <th>citric acid</th>\n      <th>residual sugar</th>\n      <th>chlorides</th>\n      <th>free sulfur dioxide</th>\n      <th>total sulfur dioxide</th>\n      <th>density</th>\n      <th>pH</th>\n      <th>sulphates</th>\n      <th>alcohol</th>\n      <th>quality</th>\n    </tr>\n  </thead>\n  <tbody>\n    <tr>\n      <th>0</th>\n      <td>7.4</td>\n      <td>0.700</td>\n      <td>0.00</td>\n      <td>1.9</td>\n      <td>0.076</td>\n      <td>11.0</td>\n      <td>34.0</td>\n      <td>0.99780</td>\n      <td>3.51</td>\n      <td>0.56</td>\n      <td>9.4</td>\n      <td>5</td>\n    </tr>\n    <tr>\n      <th>1</th>\n      <td>7.8</td>\n      <td>0.880</td>\n      <td>0.00</td>\n      <td>2.6</td>\n      <td>0.098</td>\n      <td>25.0</td>\n      <td>67.0</td>\n      <td>0.99680</td>\n      <td>3.20</td>\n      <td>0.68</td>\n      <td>9.8</td>\n      <td>5</td>\n    </tr>\n    <tr>\n      <th>2</th>\n      <td>7.8</td>\n      <td>0.760</td>\n      <td>0.04</td>\n      <td>2.3</td>\n      <td>0.092</td>\n      <td>15.0</td>\n      <td>54.0</td>\n      <td>0.99700</td>\n      <td>3.26</td>\n      <td>0.65</td>\n      <td>9.8</td>\n      <td>5</td>\n    </tr>\n    <tr>\n      <th>3</th>\n      <td>11.2</td>\n      <td>0.280</td>\n      <td>0.56</td>\n      <td>1.9</td>\n      <td>0.075</td>\n      <td>17.0</td>\n      <td>60.0</td>\n      <td>0.99800</td>\n      <td>3.16</td>\n      <td>0.58</td>\n      <td>9.8</td>\n      <td>6</td>\n    </tr>\n    <tr>\n      <th>4</th>\n      <td>7.4</td>\n      <td>0.700</td>\n      <td>0.00</td>\n      <td>1.9</td>\n      <td>0.076</td>\n      <td>11.0</td>\n      <td>34.0</td>\n      <td>0.99780</td>\n      <td>3.51</td>\n      <td>0.56</td>\n      <td>9.4</td>\n      <td>5</td>\n    </tr>\n    <tr>\n      <th>...</th>\n      <td>...</td>\n      <td>...</td>\n      <td>...</td>\n      <td>...</td>\n      <td>...</td>\n      <td>...</td>\n      <td>...</td>\n      <td>...</td>\n      <td>...</td>\n      <td>...</td>\n      <td>...</td>\n      <td>...</td>\n    </tr>\n    <tr>\n      <th>1594</th>\n      <td>6.2</td>\n      <td>0.600</td>\n      <td>0.08</td>\n      <td>2.0</td>\n      <td>0.090</td>\n      <td>32.0</td>\n      <td>44.0</td>\n      <td>0.99490</td>\n      <td>3.45</td>\n      <td>0.58</td>\n      <td>10.5</td>\n      <td>5</td>\n    </tr>\n    <tr>\n      <th>1595</th>\n      <td>5.9</td>\n      <td>0.550</td>\n      <td>0.10</td>\n      <td>2.2</td>\n      <td>0.062</td>\n      <td>39.0</td>\n      <td>51.0</td>\n      <td>0.99512</td>\n      <td>3.52</td>\n      <td>0.76</td>\n      <td>11.2</td>\n      <td>6</td>\n    </tr>\n    <tr>\n      <th>1596</th>\n      <td>6.3</td>\n      <td>0.510</td>\n      <td>0.13</td>\n      <td>2.3</td>\n      <td>0.076</td>\n      <td>29.0</td>\n      <td>40.0</td>\n      <td>0.99574</td>\n      <td>3.42</td>\n      <td>0.75</td>\n      <td>11.0</td>\n      <td>6</td>\n    </tr>\n    <tr>\n      <th>1597</th>\n      <td>5.9</td>\n      <td>0.645</td>\n      <td>0.12</td>\n      <td>2.0</td>\n      <td>0.075</td>\n      <td>32.0</td>\n      <td>44.0</td>\n      <td>0.99547</td>\n      <td>3.57</td>\n      <td>0.71</td>\n      <td>10.2</td>\n      <td>5</td>\n    </tr>\n    <tr>\n      <th>1598</th>\n      <td>6.0</td>\n      <td>0.310</td>\n      <td>0.47</td>\n      <td>3.6</td>\n      <td>0.067</td>\n      <td>18.0</td>\n      <td>42.0</td>\n      <td>0.99549</td>\n      <td>3.39</td>\n      <td>0.66</td>\n      <td>11.0</td>\n      <td>6</td>\n    </tr>\n  </tbody>\n</table>\n<p>1599 rows × 12 columns</p>\n</div>"
          },
          "metadata": {}
        }
      ]
    },
    {
      "cell_type": "code",
      "source": "datos= datos.astype(float).fillna(0.0)",
      "metadata": {
        "trusted": true
      },
      "execution_count": 9,
      "outputs": []
    },
    {
      "cell_type": "code",
      "source": "y = datos.quality",
      "metadata": {
        "trusted": true
      },
      "execution_count": 10,
      "outputs": []
    },
    {
      "cell_type": "code",
      "source": "X= datos.drop('quality',axis=1)",
      "metadata": {
        "trusted": true
      },
      "execution_count": 11,
      "outputs": []
    },
    {
      "cell_type": "code",
      "source": "print(datos['quality'].value_counts())",
      "metadata": {
        "trusted": true
      },
      "execution_count": 13,
      "outputs": [
        {
          "name": "stdout",
          "text": "5.0    681\n6.0    638\n7.0    199\n4.0     53\n8.0     18\n3.0     10\nName: quality, dtype: int64\n",
          "output_type": "stream"
        }
      ]
    },
    {
      "cell_type": "code",
      "source": "X_train, X_test, y_train, y_test = train_test_split(X, y,\n                                                    test_size= 0.2,\n                                                    random_state= 42,\n                                                    stratify = y)",
      "metadata": {
        "trusted": true
      },
      "execution_count": 16,
      "outputs": []
    },
    {
      "cell_type": "code",
      "source": "X_train",
      "metadata": {
        "trusted": true
      },
      "execution_count": 18,
      "outputs": [
        {
          "execution_count": 18,
          "output_type": "execute_result",
          "data": {
            "text/plain": "      fixed acidity  volatile acidity  citric acid  residual sugar  chlorides  \\\n1542      -0.947970          1.840385    -1.303102       -0.468011  -0.489279   \n1558      -0.829952          0.573783     0.288062        3.022496   2.866207   \n344        2.120487          0.236023     1.160636        0.041022  -0.136070   \n924        0.173197         -0.326911    -0.019905       -0.177135  -0.665884   \n971        1.235355         -1.509072     1.057980       -0.468011  -0.450034   \n...             ...               ...          ...             ...        ...   \n1056       0.350223         -0.270618     1.314620        1.059086   0.236761   \n1394      -1.124996          0.236023    -0.687168        0.986367  -0.371543   \n337       -0.298873         -0.552085     0.236734        0.186459  -0.175316   \n539        1.707426         -0.158031     2.392505        1.895353   0.217139   \n1083       0.232206         -0.608378     0.903997       -0.104416  -0.332298   \n\n      free sulfur dioxide  total sulfur dioxide   density        pH  \\\n1542             1.229496             -0.278517 -1.088491 -0.056651   \n1558             4.763582              2.032285  0.612906 -0.584565   \n344             -0.967369             -0.458580  2.087450 -1.244458   \n924             -0.203242             -0.578622 -0.850836 -0.848522   \n971             -0.967369             -1.118809  0.272626  0.141317   \n...                   ...                   ...       ...       ...   \n1056            -1.253916             -1.118809 -0.472748 -0.650554   \n1394             1.038464              0.771848 -0.024443  0.075328   \n337              1.229496              0.321691  0.359047  0.009339   \n539             -1.062885             -0.908736  1.547324 -0.584565   \n1083             1.516043              0.351702 -0.305309  0.141317   \n\n      sulphates   alcohol  \n1542  -0.581493  0.305611  \n1558  -0.581493 -0.867817  \n344    0.652447  0.258674  \n924    0.764623  0.728045  \n971    1.157240  0.446422  \n...         ...       ...  \n1056  -0.413228  1.572913  \n1394  -1.030198 -1.149439  \n337   -0.132787 -0.116823  \n539   -0.244964  0.728045  \n1083   0.596359  1.479039  \n\n[1279 rows x 11 columns]",
            "text/html": "<div>\n<style scoped>\n    .dataframe tbody tr th:only-of-type {\n        vertical-align: middle;\n    }\n\n    .dataframe tbody tr th {\n        vertical-align: top;\n    }\n\n    .dataframe thead th {\n        text-align: right;\n    }\n</style>\n<table border=\"1\" class=\"dataframe\">\n  <thead>\n    <tr style=\"text-align: right;\">\n      <th></th>\n      <th>fixed acidity</th>\n      <th>volatile acidity</th>\n      <th>citric acid</th>\n      <th>residual sugar</th>\n      <th>chlorides</th>\n      <th>free sulfur dioxide</th>\n      <th>total sulfur dioxide</th>\n      <th>density</th>\n      <th>pH</th>\n      <th>sulphates</th>\n      <th>alcohol</th>\n    </tr>\n  </thead>\n  <tbody>\n    <tr>\n      <th>1542</th>\n      <td>-0.947970</td>\n      <td>1.840385</td>\n      <td>-1.303102</td>\n      <td>-0.468011</td>\n      <td>-0.489279</td>\n      <td>1.229496</td>\n      <td>-0.278517</td>\n      <td>-1.088491</td>\n      <td>-0.056651</td>\n      <td>-0.581493</td>\n      <td>0.305611</td>\n    </tr>\n    <tr>\n      <th>1558</th>\n      <td>-0.829952</td>\n      <td>0.573783</td>\n      <td>0.288062</td>\n      <td>3.022496</td>\n      <td>2.866207</td>\n      <td>4.763582</td>\n      <td>2.032285</td>\n      <td>0.612906</td>\n      <td>-0.584565</td>\n      <td>-0.581493</td>\n      <td>-0.867817</td>\n    </tr>\n    <tr>\n      <th>344</th>\n      <td>2.120487</td>\n      <td>0.236023</td>\n      <td>1.160636</td>\n      <td>0.041022</td>\n      <td>-0.136070</td>\n      <td>-0.967369</td>\n      <td>-0.458580</td>\n      <td>2.087450</td>\n      <td>-1.244458</td>\n      <td>0.652447</td>\n      <td>0.258674</td>\n    </tr>\n    <tr>\n      <th>924</th>\n      <td>0.173197</td>\n      <td>-0.326911</td>\n      <td>-0.019905</td>\n      <td>-0.177135</td>\n      <td>-0.665884</td>\n      <td>-0.203242</td>\n      <td>-0.578622</td>\n      <td>-0.850836</td>\n      <td>-0.848522</td>\n      <td>0.764623</td>\n      <td>0.728045</td>\n    </tr>\n    <tr>\n      <th>971</th>\n      <td>1.235355</td>\n      <td>-1.509072</td>\n      <td>1.057980</td>\n      <td>-0.468011</td>\n      <td>-0.450034</td>\n      <td>-0.967369</td>\n      <td>-1.118809</td>\n      <td>0.272626</td>\n      <td>0.141317</td>\n      <td>1.157240</td>\n      <td>0.446422</td>\n    </tr>\n    <tr>\n      <th>...</th>\n      <td>...</td>\n      <td>...</td>\n      <td>...</td>\n      <td>...</td>\n      <td>...</td>\n      <td>...</td>\n      <td>...</td>\n      <td>...</td>\n      <td>...</td>\n      <td>...</td>\n      <td>...</td>\n    </tr>\n    <tr>\n      <th>1056</th>\n      <td>0.350223</td>\n      <td>-0.270618</td>\n      <td>1.314620</td>\n      <td>1.059086</td>\n      <td>0.236761</td>\n      <td>-1.253916</td>\n      <td>-1.118809</td>\n      <td>-0.472748</td>\n      <td>-0.650554</td>\n      <td>-0.413228</td>\n      <td>1.572913</td>\n    </tr>\n    <tr>\n      <th>1394</th>\n      <td>-1.124996</td>\n      <td>0.236023</td>\n      <td>-0.687168</td>\n      <td>0.986367</td>\n      <td>-0.371543</td>\n      <td>1.038464</td>\n      <td>0.771848</td>\n      <td>-0.024443</td>\n      <td>0.075328</td>\n      <td>-1.030198</td>\n      <td>-1.149439</td>\n    </tr>\n    <tr>\n      <th>337</th>\n      <td>-0.298873</td>\n      <td>-0.552085</td>\n      <td>0.236734</td>\n      <td>0.186459</td>\n      <td>-0.175316</td>\n      <td>1.229496</td>\n      <td>0.321691</td>\n      <td>0.359047</td>\n      <td>0.009339</td>\n      <td>-0.132787</td>\n      <td>-0.116823</td>\n    </tr>\n    <tr>\n      <th>539</th>\n      <td>1.707426</td>\n      <td>-0.158031</td>\n      <td>2.392505</td>\n      <td>1.895353</td>\n      <td>0.217139</td>\n      <td>-1.062885</td>\n      <td>-0.908736</td>\n      <td>1.547324</td>\n      <td>-0.584565</td>\n      <td>-0.244964</td>\n      <td>0.728045</td>\n    </tr>\n    <tr>\n      <th>1083</th>\n      <td>0.232206</td>\n      <td>-0.608378</td>\n      <td>0.903997</td>\n      <td>-0.104416</td>\n      <td>-0.332298</td>\n      <td>1.516043</td>\n      <td>0.351702</td>\n      <td>-0.305309</td>\n      <td>0.141317</td>\n      <td>0.596359</td>\n      <td>1.479039</td>\n    </tr>\n  </tbody>\n</table>\n<p>1279 rows × 11 columns</p>\n</div>"
          },
          "metadata": {}
        }
      ]
    },
    {
      "cell_type": "code",
      "source": "from sklearn.preprocessing import StandardScaler\nsc = StandardScaler()\nX_train_array = sc.fit_transform(X_train.values)\nX_train = pd.DataFrame(X_train_array, index=X_train.index, columns=X_train.columns)\nX_test_array = sc.transform(X_test.values)\nX_test = pd.DataFrame(X_test_array, index=X_test.index, columns=X_test.columns)",
      "metadata": {
        "trusted": true
      },
      "execution_count": 17,
      "outputs": []
    },
    {
      "cell_type": "code",
      "source": "from sklearn.svm import SVC",
      "metadata": {
        "trusted": true
      },
      "execution_count": 21,
      "outputs": []
    },
    {
      "cell_type": "code",
      "source": "clf = SVC(kernel='poly').fit(X_train, y_train)",
      "metadata": {
        "trusted": true
      },
      "execution_count": 22,
      "outputs": []
    },
    {
      "cell_type": "code",
      "source": "print (clf.score(X_test, y_test))",
      "metadata": {
        "trusted": true
      },
      "execution_count": 25,
      "outputs": [
        {
          "name": "stdout",
          "text": "0.60625\n",
          "output_type": "stream"
        }
      ]
    },
    {
      "cell_type": "code",
      "source": "clf = SVC(kernel='rbf').fit(X_train, y_train)",
      "metadata": {
        "trusted": true
      },
      "execution_count": 26,
      "outputs": []
    },
    {
      "cell_type": "code",
      "source": "print (clf.score(X_test, y_test))",
      "metadata": {
        "trusted": true
      },
      "execution_count": 27,
      "outputs": [
        {
          "name": "stdout",
          "text": "0.625\n",
          "output_type": "stream"
        }
      ]
    },
    {
      "cell_type": "code",
      "source": "",
      "metadata": {},
      "execution_count": null,
      "outputs": []
    }
  ]
}