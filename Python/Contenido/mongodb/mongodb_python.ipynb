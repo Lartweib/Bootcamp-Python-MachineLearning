{
 "cells": [
  {
   "cell_type": "code",
   "execution_count": 24,
   "id": "6018036f",
   "metadata": {},
   "outputs": [],
   "source": [
    "### MongoDB en Python (NoSQL)"
   ]
  },
  {
   "cell_type": "code",
   "execution_count": 1,
   "id": "70fc1ec8",
   "metadata": {},
   "outputs": [],
   "source": [
    "import pymongo"
   ]
  },
  {
   "cell_type": "code",
   "execution_count": 25,
   "id": "ec500ddb",
   "metadata": {},
   "outputs": [],
   "source": [
    "#Mongodb almacena los datos en formato JSON\n",
    "#hace falta un Mondodb server https://www.mongodb.com"
   ]
  },
  {
   "cell_type": "markdown",
   "id": "c9bfcd32",
   "metadata": {},
   "source": [
    "# MongoDB Python (PyMongo)\n",
    "\n",
    "### Python necesita un controlador MongoDB para acceder a la bd \n",
    "### MongoDb PyMongo\n"
   ]
  },
  {
   "cell_type": "markdown",
   "id": "93a84a50",
   "metadata": {},
   "source": [
    "pip install pymongo\n",
    "python -m pip install pymongo"
   ]
  },
  {
   "cell_type": "markdown",
   "id": "f6e8910c",
   "metadata": {},
   "source": [
    "## Probar instalación"
   ]
  },
  {
   "cell_type": "code",
   "execution_count": null,
   "id": "eeda61f8",
   "metadata": {},
   "outputs": [],
   "source": [
    "import pymongo"
   ]
  },
  {
   "cell_type": "markdown",
   "id": "513118f3",
   "metadata": {},
   "source": [
    "## Crear Base de datos"
   ]
  },
  {
   "cell_type": "code",
   "execution_count": 33,
   "id": "2ed2a742",
   "metadata": {},
   "outputs": [],
   "source": [
    "import pymongo"
   ]
  },
  {
   "cell_type": "code",
   "execution_count": 34,
   "id": "c28f7e3b",
   "metadata": {},
   "outputs": [],
   "source": [
    "myclient = pymongo.MongoClient(\"mongodb://localhost:27017/\")"
   ]
  },
  {
   "cell_type": "code",
   "execution_count": 39,
   "id": "bb5f546a",
   "metadata": {},
   "outputs": [],
   "source": [
    "db = myclient[\"pruebas\"]"
   ]
  },
  {
   "cell_type": "code",
   "execution_count": 36,
   "id": "4f4e4ca5",
   "metadata": {},
   "outputs": [],
   "source": [
    "### En Mongodb la BD no se crea hasta que no tiene datos\n",
    "### Al menos una colección(tabla) con un documento(registro) "
   ]
  },
  {
   "cell_type": "markdown",
   "id": "4662d710",
   "metadata": {},
   "source": [
    "## Comprobar si existe la BD"
   ]
  },
  {
   "cell_type": "code",
   "execution_count": 41,
   "id": "ee2042a1",
   "metadata": {},
   "outputs": [
    {
     "name": "stdout",
     "output_type": "stream",
     "text": [
      "['admin', 'config', 'local', 'mydatabase']\n"
     ]
    }
   ],
   "source": [
    "print (myclient.list_database_names())\n",
    "#devuelve lista DB del sistema"
   ]
  },
  {
   "cell_type": "code",
   "execution_count": 42,
   "id": "798a825d",
   "metadata": {},
   "outputs": [],
   "source": [
    "dblist = myclient.list_database_names()\n",
    "if \"pruebas\" in dblist:\n",
    "  print(\"La DB pruebas existe.\")"
   ]
  },
  {
   "cell_type": "markdown",
   "id": "6401e3ef",
   "metadata": {},
   "source": [
    "## Crear una colección"
   ]
  },
  {
   "cell_type": "code",
   "execution_count": 43,
   "id": "8879ab42",
   "metadata": {},
   "outputs": [],
   "source": [
    "import pymongo\n",
    "\n",
    "myclient = pymongo.MongoClient(\"mongodb://localhost:27017/\")\n",
    "db = myclient[\"pruebas\"]\n",
    "\n",
    "coleccion = mydb[\"agenda\"]"
   ]
  },
  {
   "cell_type": "code",
   "execution_count": 45,
   "id": "6e7f274a",
   "metadata": {},
   "outputs": [
    {
     "name": "stdout",
     "output_type": "stream",
     "text": [
      "[]\n"
     ]
    }
   ],
   "source": [
    "print(db.list_collection_names())\n",
    "#devuelve list de colecciones(tablas) de la BD\n"
   ]
  },
  {
   "cell_type": "code",
   "execution_count": 46,
   "id": "a1a3fb48",
   "metadata": {},
   "outputs": [],
   "source": [
    "collist = mydb.list_collection_names()\n",
    "if \"agenda\" in collist:\n",
    "  print(\"La colección existe\")\n",
    "#se puede buscar por nombre de colección"
   ]
  },
  {
   "cell_type": "markdown",
   "id": "8de32469",
   "metadata": {},
   "source": [
    "## Insertar uno"
   ]
  },
  {
   "cell_type": "code",
   "execution_count": 52,
   "id": "01f036f8",
   "metadata": {},
   "outputs": [],
   "source": [
    "import pymongo\n",
    "\n",
    "myclient = pymongo.MongoClient(\"mongodb://localhost:27017/\")\n",
    "db = myclient[\"pruebas\"]\n",
    "coleccion = mydb[\"agenda\"]\n",
    "\n",
    "documento = { \"nombre\": \"Oscar\", \"Telf\": \"666666666\" }\n",
    "\n",
    "x = coleccion.insert_one(documento)"
   ]
  },
  {
   "cell_type": "markdown",
   "id": "3dc32d9b",
   "metadata": {},
   "source": [
    "## insertar varios"
   ]
  },
  {
   "cell_type": "code",
   "execution_count": 109,
   "id": "76ef75dc",
   "metadata": {},
   "outputs": [
    {
     "name": "stdout",
     "output_type": "stream",
     "text": [
      "[ObjectId('629e660652f90824326e3f9c'), ObjectId('629e660652f90824326e3f9d'), ObjectId('629e660652f90824326e3f9e'), ObjectId('629e660652f90824326e3f9f'), ObjectId('629e660652f90824326e3fa0'), ObjectId('629e660652f90824326e3fa1'), ObjectId('629e660652f90824326e3fa2'), ObjectId('629e660652f90824326e3fa3'), ObjectId('629e660652f90824326e3fa4'), ObjectId('629e660652f90824326e3fa5'), ObjectId('629e660652f90824326e3fa6'), ObjectId('629e660652f90824326e3fa7')]\n"
     ]
    }
   ],
   "source": [
    "import pymongo\n",
    "\n",
    "myclient = pymongo.MongoClient(\"mongodb://localhost:27017/\")\n",
    "db = myclient[\"pruebas\"]\n",
    "coleccion = db[\"agenda\"]\n",
    "\n",
    "lista = [\n",
    "  { \"nombre\": \"Vanesa\", \"Telf\": \"45678\"},\n",
    "  { \"nombre\": \"Luz\", \"Telf\": \"99999999\"},\n",
    "  { \"nombre\": \"Suly\", \"Telf\": \"5847458\"},\n",
    "  { \"nombre\": \"Eva\", \"Telf\": \"123456\"},\n",
    "  { \"nombre\": \"Alejandro\", \"Telf\": \"897321\"},\n",
    "  { \"nombre\": \"Bracha\", \"Telf\": \"4445556\"},\n",
    "  { \"nombre\": \"Marc\", \"Telf\": \"1254874\"},\n",
    "  { \"nombre\": \"Ali\", \"Telf\": \"12345678\"},\n",
    "  { \"nombre\": \"CLaudia\", \"Telf\": \"1245789\"},\n",
    "  { \"nombre\": \"Fabio\", \"Telf\": \"784534\"},\n",
    "  { \"nombre\": \"Conchi\", \"TelfTelf\": \"10101010\"},\n",
    "  { \"nombre\": \"Laia\", \"Telf\": \"2525533\"}\n",
    "]\n",
    "\n",
    "x = coleccion.insert_many(lista)\n",
    "\n",
    "#print list of the _id values of the inserted documents:\n",
    "print(x.inserted_ids)"
   ]
  },
  {
   "cell_type": "markdown",
   "id": "ae48b2b9",
   "metadata": {},
   "source": [
    "## Insertar varios documentos, con identificadores específicos"
   ]
  },
  {
   "cell_type": "code",
   "execution_count": 102,
   "id": "06593ca7",
   "metadata": {},
   "outputs": [
    {
     "name": "stdout",
     "output_type": "stream",
     "text": [
      "[111, 112, 113]\n"
     ]
    }
   ],
   "source": [
    "import pymongo\n",
    "\n",
    "myclient = pymongo.MongoClient(\"mongodb://localhost:27017/\")\n",
    "db = myclient[\"pruebas\"]\n",
    "coleccion = db[\"agenda\"]\n",
    "\n",
    "lista = [\n",
    "  { \"_id\": 111, \"nombre\": \"Oscar\", \"Telf\": \"+34 607203769\"},\n",
    "  { \"_id\": 112, \"nombre\": \"Peter\", \"Telf\": \"+34 5555555\"},\n",
    "  { \"_id\": 113, \"nombre\": \"Amy\", \"Telf\": \"+34 44444444\"}\n",
    "]\n",
    "\n",
    "x = coleccion.insert_many(lista)\n",
    "\n",
    "#print list of the _id values of the inserted documents:\n",
    "print(x.inserted_ids)"
   ]
  },
  {
   "cell_type": "markdown",
   "id": "25d6ea9d",
   "metadata": {},
   "source": [
    "## buscar find/findOne"
   ]
  },
  {
   "cell_type": "code",
   "execution_count": 89,
   "id": "c8cb0185",
   "metadata": {},
   "outputs": [
    {
     "name": "stdout",
     "output_type": "stream",
     "text": [
      "None\n"
     ]
    }
   ],
   "source": [
    "import pymongo\n",
    "\n",
    "myclient = pymongo.MongoClient(\"mongodb://localhost:27017/\")\n",
    "db = myclient[\"pruebas\"]\n",
    "coleccion = db[\"agenda\"]\n",
    "\n",
    "x = coleccion.find_one()\n",
    "#primera aparición de la colección\n",
    "\n",
    "print(x)"
   ]
  },
  {
   "cell_type": "markdown",
   "id": "06c0ffcd",
   "metadata": {},
   "source": [
    "## buscar todos"
   ]
  },
  {
   "cell_type": "code",
   "execution_count": 1,
   "id": "a90defa2",
   "metadata": {},
   "outputs": [
    {
     "name": "stdout",
     "output_type": "stream",
     "text": [
      "{'_id': 111, 'nombre': 'Oscar Burgos', 'Telf': 'España'}\n",
      "{'_id': 112, 'nombre': 'Peter', 'Telf': 'España'}\n",
      "{'_id': 113, 'nombre': 'Amy', 'Telf': 'España'}\n",
      "{'_id': ObjectId('629e660652f90824326e3f9c'), 'nombre': 'Vanesa', 'Telf': '45678'}\n",
      "{'_id': ObjectId('629e660652f90824326e3f9d'), 'nombre': 'Luz', 'Telf': '99999999'}\n",
      "{'_id': ObjectId('629e660652f90824326e3f9e'), 'nombre': 'Suly', 'Telf': '5847458'}\n",
      "{'_id': ObjectId('629e660652f90824326e3f9f'), 'nombre': 'Eva', 'Telf': '123456'}\n",
      "{'_id': ObjectId('629e660652f90824326e3fa0'), 'nombre': 'Alejandro', 'Telf': '897321'}\n",
      "{'_id': ObjectId('629e660652f90824326e3fa1'), 'nombre': 'Bracha', 'Telf': '4445556'}\n",
      "{'_id': ObjectId('629e660652f90824326e3fa2'), 'nombre': 'Marc', 'Telf': '1254874'}\n",
      "{'_id': ObjectId('629e660652f90824326e3fa3'), 'nombre': 'Ali', 'Telf': '12345678'}\n",
      "{'_id': ObjectId('629e660652f90824326e3fa4'), 'nombre': 'CLaudia', 'Telf': '1245789'}\n",
      "{'_id': ObjectId('629e660652f90824326e3fa5'), 'nombre': 'Fabio', 'Telf': '784534'}\n",
      "{'_id': ObjectId('629e660652f90824326e3fa6'), 'nombre': 'Conchi', 'TelfTelf': '10101010'}\n",
      "{'_id': ObjectId('629e660652f90824326e3fa7'), 'nombre': 'Laia', 'Telf': '2525533'}\n"
     ]
    }
   ],
   "source": [
    "import pymongo\n",
    "\n",
    "myclient = pymongo.MongoClient(\"mongodb://localhost:27017/\")\n",
    "db = myclient[\"pruebas\"]\n",
    "coleccion = db[\"agenda\"]\n",
    "\n",
    "for x in coleccion.find():\n",
    "  print(x)"
   ]
  },
  {
   "cell_type": "code",
   "execution_count": 111,
   "id": "4d8b25f7",
   "metadata": {},
   "outputs": [
    {
     "name": "stdout",
     "output_type": "stream",
     "text": [
      "{'_id': 111, 'nombre': 'Oscar Burgos', 'Telf': 'España'}\n",
      "{'_id': 112, 'nombre': 'Peter', 'Telf': 'España'}\n",
      "{'_id': 113, 'nombre': 'Amy', 'Telf': 'España'}\n",
      "{'_id': ObjectId('629e660652f90824326e3f9c'), 'nombre': 'Vanesa', 'Telf': '45678'}\n",
      "{'_id': ObjectId('629e660652f90824326e3f9d'), 'nombre': 'Luz', 'Telf': '99999999'}\n"
     ]
    }
   ],
   "source": [
    "#limit()\n",
    "import pymongo\n",
    "\n",
    "myclient = pymongo.MongoClient(\"mongodb://localhost:27017/\")\n",
    "db = myclient[\"pruebas\"]\n",
    "coleccion = db[\"agenda\"]\n",
    "\n",
    "result = coleccion.find().limit(5)\n",
    "\n",
    "for x in result:\n",
    "  print(x)"
   ]
  },
  {
   "cell_type": "markdown",
   "id": "47f3a391",
   "metadata": {},
   "source": [
    "## devuelve solo algunos campos"
   ]
  },
  {
   "cell_type": "code",
   "execution_count": 93,
   "id": "11894b2f",
   "metadata": {},
   "outputs": [
    {
     "name": "stdout",
     "output_type": "stream",
     "text": [
      "{'nombre': 'John', 'Telf': '+34 66666666'}\n",
      "{'nombre': 'Peter', 'Telf': '+34 5555555'}\n",
      "{'nombre': 'Amy', 'Telf': '+34 44444444'}\n"
     ]
    }
   ],
   "source": [
    "import pymongo\n",
    "\n",
    "myclient = pymongo.MongoClient(\"mongodb://localhost:27017/\")\n",
    "db = myclient[\"pruebas\"]\n",
    "coleccion = db[\"agenda\"]\n",
    "\n",
    "for x in coleccion.find({},{ \"_id\": 0, \"nombre\": 1, \"Telf\": 1 }):\n",
    "    print(x)"
   ]
  },
  {
   "cell_type": "code",
   "execution_count": 108,
   "id": "d9141ef0",
   "metadata": {},
   "outputs": [
    {
     "name": "stdout",
     "output_type": "stream",
     "text": [
      "{'_id': 111, 'nombre': 'Oscar Burgos'}\n",
      "{'_id': 112, 'nombre': 'Peter'}\n",
      "{'_id': 113, 'nombre': 'Amy'}\n"
     ]
    }
   ],
   "source": [
    "import pymongo\n",
    "\n",
    "myclient = pymongo.MongoClient(\"mongodb://localhost:27017/\")\n",
    "db = myclient[\"pruebas\"]\n",
    "coleccion = mydb[\"agenda\"]\n",
    "\n",
    "for x in coleccion.find({},{\"Telf\": 0 }):\n",
    "    print(x)"
   ]
  },
  {
   "cell_type": "markdown",
   "id": "870de98f",
   "metadata": {},
   "source": [
    "## Filtrado"
   ]
  },
  {
   "cell_type": "code",
   "execution_count": 68,
   "id": "bfe0e17f",
   "metadata": {},
   "outputs": [
    {
     "name": "stdout",
     "output_type": "stream",
     "text": [
      "{'_id': ObjectId('629e4ca952f90824326e3f22'), 'nombre': 'Oscar', 'Telf': '666666666'}\n",
      "{'_id': ObjectId('629e4eb852f90824326e3f28'), 'nombre': 'Oscar', 'Telf': '666666666'}\n"
     ]
    }
   ],
   "source": [
    "import pymongo\n",
    "\n",
    "myclient = pymongo.MongoClient(\"mongodb://localhost:27017/\")\n",
    "db = myclient[\"pruebas\"]\n",
    "coleccion = db[\"agenda\"]\n",
    "\n",
    "consulta = { \"Telf\": \"666666666\" }\n",
    "\n",
    "documento = coleccion.find(consulta)\n",
    "\n",
    "for x in documento:\n",
    "  print(x)"
   ]
  },
  {
   "cell_type": "code",
   "execution_count": null,
   "id": "ec653ae3",
   "metadata": {},
   "outputs": [],
   "source": [
    "'''\n",
    "comienza con  \"6\" o superior (alfabéticamente), use el modificador mayor que: {\"$gt\": \"6\"}\n",
    "'''"
   ]
  },
  {
   "cell_type": "code",
   "execution_count": 69,
   "id": "7ec1dd8c",
   "metadata": {},
   "outputs": [
    {
     "name": "stdout",
     "output_type": "stream",
     "text": [
      "{'_id': ObjectId('629e4ca952f90824326e3f22'), 'nombre': 'Oscar', 'Telf': '666666666'}\n",
      "{'_id': ObjectId('629e4eb152f90824326e3f23'), 'nombre': 'Pedro', 'Telf': '555555555'}\n",
      "{'_id': ObjectId('629e4eb852f90824326e3f28'), 'nombre': 'Oscar', 'Telf': '666666666'}\n",
      "{'_id': ObjectId('629e4eb952f90824326e3f29'), 'nombre': 'Pedro', 'Telf': '555555555'}\n",
      "{'_id': ObjectId('629e4ec452f90824326e3f2d'), 'nombre': 'Pedro', 'Telf': '555555555'}\n",
      "{'_id': ObjectId('629e4fc952f90824326e3f32'), 'nombre': 'Pedro', 'Telf': '555555555'}\n",
      "{'_id': ObjectId('629e518b52f90824326e3f45'), 'nombre': 'Luz', 'Telf': '99999999'}\n",
      "{'_id': ObjectId('629e518b52f90824326e3f46'), 'nombre': 'Suly', 'Telf': '5847458'}\n",
      "{'_id': ObjectId('629e518b52f90824326e3f48'), 'nombre': 'Alejandro', 'Telf': '897321'}\n",
      "{'_id': ObjectId('629e518b52f90824326e3f4d'), 'nombre': 'Fabio', 'Telf': '784534'}\n",
      "{'_id': ObjectId('629e520b52f90824326e3f52'), 'nombre': 'Luz', 'Telf': '99999999'}\n",
      "{'_id': ObjectId('629e520b52f90824326e3f53'), 'nombre': 'Suly', 'Telf': '5847458'}\n",
      "{'_id': ObjectId('629e520b52f90824326e3f55'), 'nombre': 'Alejandro', 'Telf': '897321'}\n",
      "{'_id': ObjectId('629e520b52f90824326e3f5a'), 'nombre': 'Fabio', 'Telf': '784534'}\n"
     ]
    }
   ],
   "source": [
    "import pymongo\n",
    "\n",
    "myclient = pymongo.MongoClient(\"mongodb://localhost:27017/\")\n",
    "db = myclient[\"pruebas\"]\n",
    "col = db[\"agenda\"]\n",
    "\n",
    "consulta = { \"Telf\": { \"$gt\": \"5\" } }\n",
    "\n",
    "doc = col.find(consulta)\n",
    "\n",
    "for x in doc:\n",
    "  print(x)"
   ]
  },
  {
   "cell_type": "code",
   "execution_count": null,
   "id": "27b56deb",
   "metadata": {},
   "outputs": [],
   "source": [
    "'''\n",
    "Regexp\n",
    "'''"
   ]
  },
  {
   "cell_type": "code",
   "execution_count": 72,
   "id": "b685d0a7",
   "metadata": {},
   "outputs": [
    {
     "name": "stdout",
     "output_type": "stream",
     "text": [
      "{'_id': 111, 'nombre': 'John', 'Telf': '+34 66666666'}\n",
      "{'_id': 112, 'nombre': 'Peter', 'Telf': '+34 5555555'}\n",
      "{'_id': 113, 'nombre': 'Amy', 'Telf': '+34 44444444'}\n"
     ]
    }
   ],
   "source": [
    "import pymongo\n",
    "\n",
    "myclient = pymongo.MongoClient(\"mongodb://localhost:27017/\")\n",
    "db = myclient[\"pruebas\"]\n",
    "col = db[\"agenda\"]\n",
    "\n",
    "consulta = { \"Telf\": { \"$regex\": \"^\\+34\\s\" } }\n",
    "\n",
    "doc = col.find(consulta)\n",
    "\n",
    "for x in doc:\n",
    "  print(x)"
   ]
  },
  {
   "cell_type": "markdown",
   "id": "568eb255",
   "metadata": {},
   "source": [
    "## Ordenar"
   ]
  },
  {
   "cell_type": "code",
   "execution_count": 95,
   "id": "13cba56c",
   "metadata": {},
   "outputs": [],
   "source": [
    "import pymongo\n",
    "\n",
    "myclient = pymongo.MongoClient(\"mongodb://localhost:27017/\")\n",
    "db = myclient[\"pruebas\"]\n",
    "col = db[\"agenda\"]\n",
    "\n",
    "doc = col.find().sort(\"nombre\")\n",
    "\n",
    "for x in doc:\n",
    "  print(x)"
   ]
  },
  {
   "cell_type": "code",
   "execution_count": 96,
   "id": "5ff4c4e8",
   "metadata": {},
   "outputs": [],
   "source": [
    "import pymongo\n",
    "\n",
    "myclient = pymongo.MongoClient(\"mongodb://localhost:27017/\")\n",
    "db = myclient[\"pruebas\"]\n",
    "col = db[\"agenda\"]\n",
    "\n",
    "doc = col.find().sort(\"nombre\", -1)\n",
    "#desc\n",
    "for x in doc:\n",
    "  print(x)"
   ]
  },
  {
   "cell_type": "markdown",
   "id": "02137fa7",
   "metadata": {},
   "source": [
    "## Borrar"
   ]
  },
  {
   "cell_type": "code",
   "execution_count": 78,
   "id": "20e89402",
   "metadata": {},
   "outputs": [
    {
     "data": {
      "text/plain": [
       "<pymongo.results.DeleteResult at 0x7f842843a220>"
      ]
     },
     "execution_count": 78,
     "metadata": {},
     "output_type": "execute_result"
    }
   ],
   "source": [
    "import pymongo\n",
    "\n",
    "myclient = pymongo.MongoClient(\"mongodb://localhost:27017/\")\n",
    "db = myclient[\"pruebas\"]\n",
    "col = db[\"agenda\"]\n",
    "consulta = {\"Telf\": \"666666666\"}\n",
    "\n",
    "col.delete_one(consulta)\n",
    "\n"
   ]
  },
  {
   "cell_type": "code",
   "execution_count": 79,
   "id": "1c191730",
   "metadata": {},
   "outputs": [
    {
     "name": "stdout",
     "output_type": "stream",
     "text": [
      "3 documentos borrados\n"
     ]
    }
   ],
   "source": [
    "#eliminar muchos\n",
    "import pymongo\n",
    "\n",
    "myclient = pymongo.MongoClient(\"mongodb://localhost:27017/\")\n",
    "db = myclient[\"pruebas\"]\n",
    "col = db[\"agenda\"]\n",
    "\n",
    "consulta = { \"Telf\": { \"$regex\": \"^\\+34\\s\" } }\n",
    "\n",
    "doc = col.delete_many(consulta)\n",
    "\n",
    "print(doc.deleted_count, \"documentos borrados\")"
   ]
  },
  {
   "cell_type": "code",
   "execution_count": 94,
   "id": "645f6ab0",
   "metadata": {},
   "outputs": [
    {
     "name": "stdout",
     "output_type": "stream",
     "text": [
      "3 documentos borrados\n"
     ]
    }
   ],
   "source": [
    "#eliminar todos\n",
    "import pymongo\n",
    "\n",
    "myclient = pymongo.MongoClient(\"mongodb://localhost:27017/\")\n",
    "db = myclient[\"pruebas\"]\n",
    "col = db[\"agenda\"]\n",
    "\n",
    "doc = col.delete_many({})\n",
    "\n",
    "print(doc.deleted_count, \"documentos borrados\")"
   ]
  },
  {
   "cell_type": "markdown",
   "id": "0f735eb5",
   "metadata": {},
   "source": [
    "## borrar colección"
   ]
  },
  {
   "cell_type": "code",
   "execution_count": 101,
   "id": "43737aa4",
   "metadata": {},
   "outputs": [],
   "source": [
    "import pymongo\n",
    "\n",
    "myclient = pymongo.MongoClient(\"mongodb://localhost:27017/\")\n",
    "db = myclient[\"pruebas\"]\n",
    "col = db[\"agenda\"]\n",
    "\n",
    "col.drop()"
   ]
  },
  {
   "cell_type": "markdown",
   "id": "ddce5b31",
   "metadata": {},
   "source": [
    "## Actualizar"
   ]
  },
  {
   "cell_type": "code",
   "execution_count": 107,
   "id": "fbeea3c6",
   "metadata": {},
   "outputs": [
    {
     "name": "stdout",
     "output_type": "stream",
     "text": [
      "{'_id': 111, 'nombre': 'Oscar Burgos', 'Telf': 'España'}\n",
      "{'_id': 112, 'nombre': 'Peter', 'Telf': 'España'}\n",
      "{'_id': 113, 'nombre': 'Amy', 'Telf': 'España'}\n"
     ]
    }
   ],
   "source": [
    "import pymongo\n",
    "\n",
    "myclient = pymongo.MongoClient(\"mongodb://localhost:27017/\")\n",
    "db = myclient[\"pruebas\"]\n",
    "col = db[\"agenda\"]\n",
    "\n",
    "consulta = { \"Telf\": \"+34 607203769\" }\n",
    "nuevo = { \"$set\": { \"nombre\": \"Oscar Burgos\" } }\n",
    "\n",
    "col.update_one(consulta, nuevo)\n",
    "\n",
    "#print nuevo datos:\n",
    "for x in col.find():\n",
    "  print(x)"
   ]
  },
  {
   "cell_type": "markdown",
   "id": "e07eb17c",
   "metadata": {},
   "source": [
    "## act muchos"
   ]
  },
  {
   "cell_type": "code",
   "execution_count": 105,
   "id": "66207721",
   "metadata": {},
   "outputs": [
    {
     "name": "stdout",
     "output_type": "stream",
     "text": [
      "3 documentos modificados\n"
     ]
    }
   ],
   "source": [
    "import pymongo\n",
    "\n",
    "myclient = pymongo.MongoClient(\"mongodb://localhost:27017/\")\n",
    "db = myclient[\"pruebas\"]\n",
    "col = db[\"agenda\"]\n",
    "\n",
    "consulta = { \"Telf\": {\"$regex\": \"^\\+\"}}\n",
    "nuevo = { \"$set\": { \"Telf\": \"España\" } }\n",
    "\n",
    "x = col.update_many(consulta, nuevo)\n",
    "\n",
    "#print nuevo datos:\n",
    "print(x.modified_count, \"documentos modificados\")"
   ]
  },
  {
   "cell_type": "code",
   "execution_count": null,
   "id": "6a49a48d",
   "metadata": {},
   "outputs": [],
   "source": []
  }
 ],
 "metadata": {
  "kernelspec": {
   "display_name": "Python 3 (ipykernel)",
   "language": "python",
   "name": "python3"
  },
  "language_info": {
   "codemirror_mode": {
    "name": "ipython",
    "version": 3
   },
   "file_extension": ".py",
   "mimetype": "text/x-python",
   "name": "python",
   "nbconvert_exporter": "python",
   "pygments_lexer": "ipython3",
   "version": "3.9.7"
  }
 },
 "nbformat": 4,
 "nbformat_minor": 5
}
