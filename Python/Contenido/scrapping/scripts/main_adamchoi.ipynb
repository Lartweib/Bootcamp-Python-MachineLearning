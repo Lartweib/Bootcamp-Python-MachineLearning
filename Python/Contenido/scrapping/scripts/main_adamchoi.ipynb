{
 "cells": [
  {
   "cell_type": "code",
   "execution_count": 1,
   "id": "20092f65",
   "metadata": {},
   "outputs": [],
   "source": [
    "from selenium import webdriver\n",
    "from selenium.webdriver.support.ui import Select\n",
    "import pandas as pd\n",
    "import time"
   ]
  },
  {
   "cell_type": "code",
   "execution_count": 2,
   "id": "51fe2715",
   "metadata": {},
   "outputs": [],
   "source": [
    "# define the website to scrape and path where the chromediver is located\n",
    "website = 'https://www.adamchoi.co.uk/teamgoals/detailed'\n",
    "path = '/home/mihifidem/ML/selenium/chromedriver_linux64/chromedriver' # write the path here"
   ]
  },
  {
   "cell_type": "code",
   "execution_count": 3,
   "id": "f7e0843e",
   "metadata": {},
   "outputs": [
    {
     "name": "stderr",
     "output_type": "stream",
     "text": [
      "/tmp/ipykernel_12175/3650889644.py:2: DeprecationWarning: executable_path has been deprecated, please pass in a Service object\n",
      "  driver = webdriver.Chrome(path)\n"
     ]
    }
   ],
   "source": [
    "# define 'driver' variable\n",
    "driver = webdriver.Chrome(path)\n",
    "# open Google Chrome with chromedriver\n",
    "driver.get(website)\n"
   ]
  },
  {
   "cell_type": "code",
   "execution_count": 4,
   "id": "944ae8ff",
   "metadata": {},
   "outputs": [
    {
     "name": "stderr",
     "output_type": "stream",
     "text": [
      "/tmp/ipykernel_12175/762711903.py:2: DeprecationWarning: find_element_by_xpath is deprecated. Please use find_element(by=By.XPATH, value=xpath) instead\n",
      "  all_matches_button = driver.find_element_by_xpath('//label[@analytics-event=\"All matches\"]')\n"
     ]
    }
   ],
   "source": [
    "# locate a button\n",
    "all_matches_button = driver.find_element_by_xpath('//label[@analytics-event=\"All matches\"]')\n",
    "# click on a button\n",
    "all_matches_button.click()"
   ]
  },
  {
   "cell_type": "code",
   "execution_count": 5,
   "id": "cd1214b2",
   "metadata": {},
   "outputs": [
    {
     "name": "stderr",
     "output_type": "stream",
     "text": [
      "/tmp/ipykernel_12175/3748009675.py:2: DeprecationWarning: find_element_by_class_name is deprecated. Please use find_element(by=By.CLASS_NAME, value=name) instead\n",
      "  box = driver.find_element_by_class_name('panel-body')\n",
      "/tmp/ipykernel_12175/3748009675.py:4: DeprecationWarning: find_element_by_id is deprecated. Please use find_element(by=By.ID, value=id_) instead\n",
      "  dropdown = Select(box.find_element_by_id('country'))\n"
     ]
    }
   ],
   "source": [
    "# using the \"box\" section as a reference to help us locate an element inside\n",
    "box = driver.find_element_by_class_name('panel-body')\n",
    "# select dropdown and select element inside by visible text\n",
    "dropdown = Select(box.find_element_by_id('country'))\n",
    "dropdown.select_by_visible_text('Spain')"
   ]
  },
  {
   "cell_type": "code",
   "execution_count": 6,
   "id": "6319de41",
   "metadata": {},
   "outputs": [
    {
     "name": "stderr",
     "output_type": "stream",
     "text": [
      "/tmp/ipykernel_12175/3881244687.py:4: DeprecationWarning: find_elements_by_css_selector is deprecated. Please use find_elements(by=By.CSS_SELECTOR, value=css_selector) instead\n",
      "  matches = driver.find_elements_by_css_selector('tr')\n"
     ]
    }
   ],
   "source": [
    "# implicit wait (useful in JavaScript driven websites when elements need seconds to load and avoid error \"ElementNotVisibleException\")\n",
    "time.sleep(5)\n",
    "# select elements in the table\n",
    "matches = driver.find_elements_by_css_selector('tr')\n"
   ]
  },
  {
   "cell_type": "code",
   "execution_count": 7,
   "id": "e43ce6b3",
   "metadata": {},
   "outputs": [],
   "source": [
    "# storage in a list\n",
    "all_matches = [match.text for match in matches]\n",
    "\n",
    "#quit drive we opened in the beginning\n",
    "driver.quit()"
   ]
  },
  {
   "cell_type": "code",
   "execution_count": 8,
   "id": "3fe1291e",
   "metadata": {},
   "outputs": [
    {
     "name": "stdout",
     "output_type": "stream",
     "text": [
      "                                     goals\n",
      "0      14-08-2021 Alaves 1 - 4 Real Madrid\n",
      "1         21-08-2021 Alaves 0 - 1 Mallorca\n",
      "2         27-08-2021 Valencia 3 - 0 Alaves\n",
      "3          18-09-2021 Alaves 0 - 2 Osasuna\n",
      "4          22-09-2021 Espanol 1 - 0 Alaves\n",
      "..                                     ...\n",
      "755     30-04-2022 Alaves 2 - 1 Villarreal\n",
      "756    08-05-2022 Villarreal 1 - 1 Sevilla\n",
      "757  12-05-2022 Vallecano 1 - 5 Villarreal\n",
      "758   15-05-2022 Villarreal 1 - 2 Sociedad\n",
      "759  22-05-2022 Barcelona 0 - 2 Villarreal\n",
      "\n",
      "[760 rows x 1 columns]\n"
     ]
    }
   ],
   "source": [
    "# Bonus: Create Dataframe in Pandas and export to CSV (Excel)\n",
    "df = pd.DataFrame({'goals': all_matches})\n",
    "print(df)\n",
    "df.to_csv('tutorial.csv', index=False)\n"
   ]
  },
  {
   "cell_type": "code",
   "execution_count": null,
   "id": "cd397a8b",
   "metadata": {},
   "outputs": [],
   "source": []
  }
 ],
 "metadata": {
  "kernelspec": {
   "display_name": "Python 3 (ipykernel)",
   "language": "python",
   "name": "python3"
  },
  "language_info": {
   "codemirror_mode": {
    "name": "ipython",
    "version": 3
   },
   "file_extension": ".py",
   "mimetype": "text/x-python",
   "name": "python",
   "nbconvert_exporter": "python",
   "pygments_lexer": "ipython3",
   "version": "3.9.7"
  }
 },
 "nbformat": 4,
 "nbformat_minor": 5
}
